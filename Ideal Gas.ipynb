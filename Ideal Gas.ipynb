{
 "metadata": {
  "name": "",
  "signature": "sha256:739d68d2195dd0594848ae17c05087fee495a68749055cbf14f1cd9779b307ce"
 },
 "nbformat": 3,
 "nbformat_minor": 0,
 "worksheets": [
  {
   "cells": [
    {
     "cell_type": "heading",
     "level": 4,
     "metadata": {},
     "source": [
      "Idealni plyn"
     ]
    },
    {
     "cell_type": "markdown",
     "metadata": {},
     "source": [
      "je dokonale stlacitelny a bez vnitrniho treni \n",
      "  \n",
      "At normal conditions such as standard temperature and pressure, most real gases behave qualitatively like an ideal gas. Generally, a gas behaves more like an ideal gas at higher temperature and lower pressure, as the work which is against intermolecular forces becomes less significant compared with the particles' kinetic energy, and the size of the molecules becomes less significant compared to the empty space between them.  \n",
      "  \n",
      "The ideal gas model tends to fail at lower temperatures or higher pressures, when intermolecular forces and molecular size become important. It also fails for most heavy gases, such as many refrigerants, and for gases with strong intermolecular forces, notably water vapor."
     ]
    },
    {
     "cell_type": "heading",
     "level": 4,
     "metadata": {},
     "source": [
      "Standardni teplota a tlak"
     ]
    },
    {
     "cell_type": "markdown",
     "metadata": {},
     "source": [
      "(NIST)  \n",
      "teplota - 20\u00b0C (293.15 K)  \n",
      "absolutni tlak - 101.325 kPa (1 atm)"
     ]
    },
    {
     "cell_type": "heading",
     "level": 4,
     "metadata": {},
     "source": [
      "Vzduch"
     ]
    },
    {
     "cell_type": "markdown",
     "metadata": {},
     "source": [
      "(NIST)  \n",
      "molarni objem $V_m= 22.413968 [l mol^{-1}]$   \n",
      "molarni hmostnost $M_{air}=28.9645 [g mol^{-1}]$  \n",
      "hustota  $\\rho=1.2922 [kg/m^3]$  \n",
      "specificka plynova konstanta $R_{spec}=287.058 [J kg^{-1} K^{-1})]$"
     ]
    },
    {
     "cell_type": "code",
     "collapsed": false,
     "input": [
      "p=101.325e3\n",
      "R_spec=287.058\n",
      "T=293.15\n",
      "rho=p/(R_spec*T)\n",
      "rho\n"
     ],
     "language": "python",
     "metadata": {},
     "outputs": [
      {
       "metadata": {},
       "output_type": "pyout",
       "prompt_number": 11,
       "text": [
        "1.2040847588826422"
       ]
      }
     ],
     "prompt_number": 11
    },
    {
     "cell_type": "heading",
     "level": 3,
     "metadata": {},
     "source": [
      "Stavova Rovnice"
     ]
    },
    {
     "cell_type": "markdown",
     "metadata": {},
     "source": [
      "$$ p V = n R T $$"
     ]
    },
    {
     "cell_type": "markdown",
     "metadata": {},
     "source": [
      "p - tlak plynu [Pa]  \n",
      "V - objem plynu [m^3]  \n",
      "n - latkove mnozstvi [mol]   \n",
      "R - molarni plynova konstanta [J K^-1 mol^-1]  \n",
      "T - termodynamicka teplota [K]"
     ]
    },
    {
     "cell_type": "heading",
     "level": 4,
     "metadata": {},
     "source": [
      "Molarni plynova konstanta - R (Gas constant)"
     ]
    },
    {
     "cell_type": "markdown",
     "metadata": {},
     "source": [
      "$$ R = 8,314 4621 [J K^{-1} mol^{-1}] $$"
     ]
    },
    {
     "cell_type": "markdown",
     "metadata": {},
     "source": [
      "$$ R = \\frac {P V}{n T} = \\frac {force/(length)^{2} \\times (length)^{3}} {amount \\times temperature} = \\frac {work}{amount \\times temperature}$$"
     ]
    },
    {
     "cell_type": "heading",
     "level": 4,
     "metadata": {},
     "source": [
      "Latkove mnozstvi (Amount of substance)"
     ]
    },
    {
     "cell_type": "markdown",
     "metadata": {},
     "source": [
      "$$ n = \\frac {m}{M} $$"
     ]
    },
    {
     "cell_type": "markdown",
     "metadata": {},
     "source": [
      "m - hmostnost [g]  \n",
      "M - molarni hmotnost [g/mol]"
     ]
    },
    {
     "cell_type": "heading",
     "level": 4,
     "metadata": {},
     "source": [
      "Priklad - lamely"
     ]
    },
    {
     "cell_type": "code",
     "collapsed": false,
     "input": [
      "V=2*5*0.003\n",
      "p=101325\n",
      "T=293.15\n",
      "const=(p*V)/T\n",
      "const\n",
      "\n",
      "V=arange(0.001,0.03,0.001)\n",
      "#V_n=0.1*V\n",
      "p=(const*T)/V\n",
      "plot(V,p)"
     ],
     "language": "python",
     "metadata": {},
     "outputs": [
      {
       "metadata": {},
       "output_type": "pyout",
       "prompt_number": 21,
       "text": [
        "[<matplotlib.lines.Line2D at 0x81cb278>]"
       ]
      },
      {
       "metadata": {},
       "output_type": "display_data",
       "png": "[encoded data removed]",
       "text": [
        "<matplotlib.figure.Figure at 0x8031860>"
       ]
      }
     ],
     "prompt_number": 21
    },
    {
     "cell_type": "code",
     "collapsed": false,
     "input": [],
     "language": "python",
     "metadata": {},
     "outputs": []
    }
   ],
   "metadata": {}
  }
 ]
}