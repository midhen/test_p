{
 "metadata": {
  "name": "",
  "signature": "sha256:99cf49517385d6303f6fef76cad3385a2ac0ee2861cedf8427624d437cd08b78"
 },
 "nbformat": 3,
 "nbformat_minor": 0,
 "worksheets": [
  {
   "cells": [
    {
     "cell_type": "heading",
     "level": 3,
     "metadata": {},
     "source": [
      "Matrix Objects"
     ]
    },
    {
     "cell_type": "markdown",
     "metadata": {},
     "source": [
      "Matrix Creation"
     ]
    },
    {
     "cell_type": "code",
     "collapsed": false,
     "input": [
      "a=array([[1,2,4],[2,5,3],[7,8,9]])\n",
      "A=mat(a)\n",
      "print A"
     ],
     "language": "python",
     "metadata": {},
     "outputs": [
      {
       "output_type": "stream",
       "stream": "stdout",
       "text": [
        "[[1 2 4]\n",
        " [2 5 3]\n",
        " [7 8 9]]\n"
       ]
      }
     ],
     "prompt_number": 8
    },
    {
     "cell_type": "code",
     "collapsed": false,
     "input": [
      "#Matlab-like creation from string\n",
      "A=mat('1,2,4;2,5,3;7,8,9')\n",
      "print A"
     ],
     "language": "python",
     "metadata": {},
     "outputs": [
      {
       "output_type": "stream",
       "stream": "stdout",
       "text": [
        "[[1 2 4]\n",
        " [2 5 3]\n",
        " [7 8 9]]\n"
       ]
      }
     ],
     "prompt_number": 5
    },
    {
     "cell_type": "markdown",
     "metadata": {},
     "source": [
      "Block Matrices"
     ]
    },
    {
     "cell_type": "code",
     "collapsed": false,
     "input": [
      "#create a matrix from sub-matrices\n",
      "a=array([[1,2],[3,4]])\n",
      "b=array([[10,20],[30,40]])\n",
      "bmat('a,b;b,a')"
     ],
     "language": "python",
     "metadata": {},
     "outputs": [
      {
       "metadata": {},
       "output_type": "pyout",
       "prompt_number": 6,
       "text": [
        "matrix([[ 1,  2, 10, 20],\n",
        "        [ 3,  4, 30, 40],\n",
        "        [10, 20,  1,  2],\n",
        "        [30, 40,  3,  4]])"
       ]
      }
     ],
     "prompt_number": 6
    },
    {
     "cell_type": "markdown",
     "metadata": {},
     "source": [
      "Matrix Vector Multiplication"
     ]
    },
    {
     "cell_type": "code",
     "collapsed": false,
     "input": [
      "#matrix multiply\n",
      "x=array([[1],[2],[3]])\n",
      "A*x"
     ],
     "language": "python",
     "metadata": {},
     "outputs": [
      {
       "metadata": {},
       "output_type": "pyout",
       "prompt_number": 11,
       "text": [
        "matrix([[17],\n",
        "        [21],\n",
        "        [50]])"
       ]
      }
     ],
     "prompt_number": 11
    },
    {
     "cell_type": "code",
     "collapsed": false,
     "input": [
      "#matrix exponent\n",
      "print A**4"
     ],
     "language": "python",
     "metadata": {},
     "outputs": [
      {
       "output_type": "stream",
       "stream": "stdout",
       "text": [
        "[[ 6497  9580  9836]\n",
        " [ 7138 10561 10818]\n",
        " [18434 27220 27945]]\n"
       ]
      }
     ],
     "prompt_number": 12
    },
    {
     "cell_type": "heading",
     "level": 3,
     "metadata": {},
     "source": [
      "General Functions"
     ]
    },
    {
     "cell_type": "markdown",
     "metadata": {},
     "source": [
      "Vector Operations"
     ]
    },
    {
     "cell_type": "code",
     "collapsed": false,
     "input": [
      "# dot(x,y)     vdot(x,y)\n",
      "# inner(x,y)   outer(x,y)\n",
      "# cross(x,y)   kron(x,y)\n",
      "# tensordot(x,y[,axis])"
     ],
     "language": "python",
     "metadata": {},
     "outputs": [],
     "prompt_number": 13
    },
    {
     "cell_type": "markdown",
     "metadata": {},
     "source": [
      "Type Handling"
     ]
    },
    {
     "cell_type": "code",
     "collapsed": false,
     "input": [
      "inf   #infinity\n",
      "-inf\n",
      "nan   #not a number"
     ],
     "language": "python",
     "metadata": {},
     "outputs": [
      {
       "metadata": {},
       "output_type": "pyout",
       "prompt_number": 17,
       "text": [
        "nan"
       ]
      }
     ],
     "prompt_number": 17
    },
    {
     "cell_type": "code",
     "collapsed": false,
     "input": [
      "isinf(inf)"
     ],
     "language": "python",
     "metadata": {},
     "outputs": [
      {
       "metadata": {},
       "output_type": "pyout",
       "prompt_number": 18,
       "text": [
        "True"
       ]
      }
     ],
     "prompt_number": 18
    },
    {
     "cell_type": "code",
     "collapsed": false,
     "input": [
      "a=arange(5.0)\n",
      "b=a/0.0\n",
      "b"
     ],
     "language": "python",
     "metadata": {},
     "outputs": [
      {
       "metadata": {},
       "output_type": "pyout",
       "prompt_number": 22,
       "text": [
        "array([ nan,  inf,  inf,  inf,  inf])"
       ]
      }
     ],
     "prompt_number": 22
    },
    {
     "cell_type": "code",
     "collapsed": false,
     "input": [
      "isnan(b)"
     ],
     "language": "python",
     "metadata": {},
     "outputs": [
      {
       "metadata": {},
       "output_type": "pyout",
       "prompt_number": 23,
       "text": [
        "array([ True, False, False, False, False], dtype=bool)"
       ]
      }
     ],
     "prompt_number": 23
    },
    {
     "cell_type": "markdown",
     "metadata": {},
     "source": [
      "Shape Manipulation"
     ]
    },
    {
     "cell_type": "code",
     "collapsed": false,
     "input": [
      "# apply_over_axes\n",
      "# apply_along_axis"
     ],
     "language": "python",
     "metadata": {},
     "outputs": [],
     "prompt_number": 24
    },
    {
     "cell_type": "markdown",
     "metadata": {},
     "source": [
      "Other Functions"
     ]
    },
    {
     "cell_type": "code",
     "collapsed": false,
     "input": [
      "# unwrap - unwrap by changing deltas between values to 2*pi complement\n",
      "# nansum - sum over array ingnoring nan values"
     ],
     "language": "python",
     "metadata": {},
     "outputs": [],
     "prompt_number": 26
    },
    {
     "cell_type": "heading",
     "level": 3,
     "metadata": {},
     "source": [
      "Vectorizing Functions"
     ]
    },
    {
     "cell_type": "markdown",
     "metadata": {},
     "source": [
      "Scalar Function -> Vector Function (operating on arrays)"
     ]
    },
    {
     "cell_type": "code",
     "collapsed": false,
     "input": [
      "from numpy import vectorize\n",
      "vsinc=vectorize(sinc)   #sinc - some scalar function"
     ],
     "language": "python",
     "metadata": {},
     "outputs": [],
     "prompt_number": 28
    },
    {
     "cell_type": "heading",
     "level": 3,
     "metadata": {},
     "source": [
      "Mathematical Binary Operators"
     ]
    },
    {
     "cell_type": "code",
     "collapsed": false,
     "input": [
      "a=array([1,2])\n",
      "b=array([3,4])"
     ],
     "language": "python",
     "metadata": {},
     "outputs": [],
     "prompt_number": 32
    },
    {
     "cell_type": "code",
     "collapsed": false,
     "input": [
      "# Overwrite contents of a. Saves array creation overhead\n",
      "multiply(a,b,a)\n",
      "a"
     ],
     "language": "python",
     "metadata": {},
     "outputs": [
      {
       "metadata": {},
       "output_type": "pyout",
       "prompt_number": 33,
       "text": [
        "array([3, 8])"
       ]
      }
     ],
     "prompt_number": 33
    },
    {
     "cell_type": "markdown",
     "metadata": {},
     "source": [
      "Comparison and Logical Operators"
     ]
    },
    {
     "cell_type": "markdown",
     "metadata": {},
     "source": [
      "equal (==),    not_equal(!=)"
     ]
    },
    {
     "cell_type": "markdown",
     "metadata": {},
     "source": [
      "Be careful with if statements involving numpy arrays. To test for quality of arrays don't do"
     ]
    },
    {
     "cell_type": "code",
     "collapsed": false,
     "input": [
      "# if a==b:"
     ],
     "language": "python",
     "metadata": {},
     "outputs": [],
     "prompt_number": 35
    },
    {
     "cell_type": "markdown",
     "metadata": {},
     "source": [
      "Rather, do"
     ]
    },
    {
     "cell_type": "code",
     "collapsed": false,
     "input": [
      "# if all(a==b):"
     ],
     "language": "python",
     "metadata": {},
     "outputs": []
    },
    {
     "cell_type": "markdown",
     "metadata": {},
     "source": [
      "For floating point, "
     ]
    },
    {
     "cell_type": "code",
     "collapsed": false,
     "input": [
      "# if allclose(a,b):"
     ],
     "language": "python",
     "metadata": {},
     "outputs": [],
     "prompt_number": 36
    },
    {
     "cell_type": "markdown",
     "metadata": {},
     "source": [
      "In logical operations on numerical arrays, non-zero values are True, and zeros are False"
     ]
    },
    {
     "cell_type": "markdown",
     "metadata": {},
     "source": [
      "Bitwise Operators"
     ]
    },
    {
     "cell_type": "code",
     "collapsed": false,
     "input": [
      "# for speed up"
     ],
     "language": "python",
     "metadata": {},
     "outputs": [],
     "prompt_number": 38
    },
    {
     "cell_type": "heading",
     "level": 3,
     "metadata": {},
     "source": [
      "Universal Function Methods"
     ]
    },
    {
     "cell_type": "heading",
     "level": 4,
     "metadata": {},
     "source": [
      "op.reduce(a)"
     ]
    },
    {
     "cell_type": "markdown",
     "metadata": {},
     "source": [
      "applies op to all the elements in a 1D array a reducing it to a single value"
     ]
    },
    {
     "cell_type": "code",
     "collapsed": false,
     "input": [
      "a=array([1,2,3,4])\n",
      "add.reduce(a)"
     ],
     "language": "python",
     "metadata": {},
     "outputs": [
      {
       "metadata": {},
       "output_type": "pyout",
       "prompt_number": 39,
       "text": [
        "10"
       ]
      }
     ],
     "prompt_number": 39
    },
    {
     "cell_type": "code",
     "collapsed": false,
     "input": [
      "a=array([1,1,0,1])\n",
      "logical_and.reduce(a)"
     ],
     "language": "python",
     "metadata": {},
     "outputs": [
      {
       "metadata": {},
       "output_type": "pyout",
       "prompt_number": 42,
       "text": [
        "False"
       ]
      }
     ],
     "prompt_number": 42
    },
    {
     "cell_type": "code",
     "collapsed": false,
     "input": [
      "logical_or.reduce(a)"
     ],
     "language": "python",
     "metadata": {},
     "outputs": [
      {
       "metadata": {},
       "output_type": "pyout",
       "prompt_number": 43,
       "text": [
        "True"
       ]
      }
     ],
     "prompt_number": 43
    },
    {
     "cell_type": "markdown",
     "metadata": {},
     "source": [
      "For multidim arrays, op.reduce(a,axis) applies op to the elements of a along the specified axis."
     ]
    },
    {
     "cell_type": "heading",
     "level": 4,
     "metadata": {},
     "source": [
      "op.accumulate()"
     ]
    },
    {
     "cell_type": "markdown",
     "metadata": {},
     "source": [
      "creates a new array containing the intermediate results of the redcue operation at each element in a"
     ]
    },
    {
     "cell_type": "code",
     "collapsed": false,
     "input": [
      "a=array([1,2,3,4])\n",
      "add.accumulate(a)"
     ],
     "language": "python",
     "metadata": {},
     "outputs": [
      {
       "metadata": {},
       "output_type": "pyout",
       "prompt_number": 45,
       "text": [
        "array([ 1,  3,  6, 10])"
       ]
      }
     ],
     "prompt_number": 45
    },
    {
     "cell_type": "heading",
     "level": 4,
     "metadata": {},
     "source": [
      "op.reduceat()"
     ]
    },
    {
     "cell_type": "markdown",
     "metadata": {},
     "source": [
      "applies op to ranges in the 1D array a defined by the values in indices"
     ]
    },
    {
     "cell_type": "code",
     "collapsed": false,
     "input": [
      "a=array([0,10,20,30,40,50])\n",
      "indices=array([1,4])\n",
      "add.reduceat(a,indices)"
     ],
     "language": "python",
     "metadata": {},
     "outputs": [
      {
       "metadata": {},
       "output_type": "pyout",
       "prompt_number": 47,
       "text": [
        "array([60, 90])"
       ]
      }
     ],
     "prompt_number": 47
    },
    {
     "cell_type": "code",
     "collapsed": false,
     "input": [
      "# for multidim arrays reduceat() is applied along the last axis"
     ],
     "language": "python",
     "metadata": {},
     "outputs": [],
     "prompt_number": 48
    },
    {
     "cell_type": "heading",
     "level": 4,
     "metadata": {},
     "source": [
      "op.outer()"
     ]
    },
    {
     "cell_type": "markdown",
     "metadata": {},
     "source": [
      "forms all possible combinations of elements between a and b using op (order matters)"
     ]
    },
    {
     "cell_type": "code",
     "collapsed": false,
     "input": [
      "a=array([0,1])\n",
      "b=array([1,2,3])\n",
      "add.outer(a,b)"
     ],
     "language": "python",
     "metadata": {},
     "outputs": [
      {
       "metadata": {},
       "output_type": "pyout",
       "prompt_number": 50,
       "text": [
        "array([[1, 2, 3],\n",
        "       [2, 3, 4]])"
       ]
      }
     ],
     "prompt_number": 50
    },
    {
     "cell_type": "code",
     "collapsed": false,
     "input": [
      "add.outer(b,a)"
     ],
     "language": "python",
     "metadata": {},
     "outputs": [
      {
       "metadata": {},
       "output_type": "pyout",
       "prompt_number": 51,
       "text": [
        "array([[1, 2],\n",
        "       [2, 3],\n",
        "       [3, 4]])"
       ]
      }
     ],
     "prompt_number": 51
    },
    {
     "cell_type": "heading",
     "level": 3,
     "metadata": {},
     "source": [
      "Choose (switch statement)"
     ]
    },
    {
     "cell_type": "markdown",
     "metadata": {},
     "source": [
      "Switch using for loop - classical approach"
     ]
    },
    {
     "cell_type": "heading",
     "level": 4,
     "metadata": {},
     "source": [
      "Switch using choose"
     ]
    },
    {
     "cell_type": "markdown",
     "metadata": {},
     "source": [
      "output=choose(control,(input choices))"
     ]
    },
    {
     "cell_type": "code",
     "collapsed": false,
     "input": [
      "#Choose acts like a \"switch\" selecting between multiple choices\n",
      "a=array([[0,1,2],[10,11,12],[20,21,22]])\n",
      "choose(a<10,(a,10))"
     ],
     "language": "python",
     "metadata": {},
     "outputs": [
      {
       "metadata": {},
       "output_type": "pyout",
       "prompt_number": 62,
       "text": [
        "array([[10, 10, 10],\n",
        "       [10, 11, 12],\n",
        "       [20, 21, 22]])"
       ]
      }
     ],
     "prompt_number": 62
    },
    {
     "cell_type": "code",
     "collapsed": false,
     "input": [
      "# Clip lower and upper values\n",
      "lt=a<10\n",
      "gt=a>15\n",
      "choice=lt+2*gt\n",
      "choice"
     ],
     "language": "python",
     "metadata": {},
     "outputs": [
      {
       "metadata": {},
       "output_type": "pyout",
       "prompt_number": 63,
       "text": [
        "array([[1, 1, 1],\n",
        "       [0, 0, 0],\n",
        "       [2, 2, 2]])"
       ]
      }
     ],
     "prompt_number": 63
    },
    {
     "cell_type": "code",
     "collapsed": false,
     "input": [
      "choose(choice,(a,10,15))"
     ],
     "language": "python",
     "metadata": {},
     "outputs": [
      {
       "metadata": {},
       "output_type": "pyout",
       "prompt_number": 64,
       "text": [
        "array([[10, 10, 10],\n",
        "       [10, 11, 12],\n",
        "       [15, 15, 15]])"
       ]
      }
     ],
     "prompt_number": 64
    },
    {
     "cell_type": "heading",
     "level": 3,
     "metadata": {},
     "source": [
      "Array Broadcasting"
     ]
    },
    {
     "cell_type": "markdown",
     "metadata": {},
     "source": [
      "How does Numpy handle if you try to add two arrays with different shapes?"
     ]
    },
    {
     "cell_type": "markdown",
     "metadata": {},
     "source": [
      "The trailing axes of either arrays must be 1 or both have the same size for broadcastin to occur"
     ]
    },
    {
     "cell_type": "code",
     "collapsed": false,
     "input": [
      "a=array([[0,0,0],[10,10,10],[20,20,20],[30,30,30]])\n",
      "b=array([[0,1,2],[0,1,2],[0,1,2],[0,1,2]])\n",
      "a+b"
     ],
     "language": "python",
     "metadata": {},
     "outputs": [
      {
       "metadata": {},
       "output_type": "pyout",
       "prompt_number": 69,
       "text": [
        "array([[ 0,  1,  2],\n",
        "       [10, 11, 12],\n",
        "       [20, 21, 22],\n",
        "       [30, 31, 32]])"
       ]
      }
     ],
     "prompt_number": 69
    },
    {
     "cell_type": "code",
     "collapsed": false,
     "input": [
      "b=array([0,1,2])\n",
      "a+b"
     ],
     "language": "python",
     "metadata": {},
     "outputs": [
      {
       "metadata": {},
       "output_type": "pyout",
       "prompt_number": 70,
       "text": [
        "array([[ 0,  1,  2],\n",
        "       [10, 11, 12],\n",
        "       [20, 21, 22],\n",
        "       [30, 31, 32]])"
       ]
      }
     ],
     "prompt_number": 70
    },
    {
     "cell_type": "code",
     "collapsed": false,
     "input": [
      "a=array([[0],[10],[20],[30]])\n",
      "b=array([0,1,2])\n",
      "a+b"
     ],
     "language": "python",
     "metadata": {},
     "outputs": [
      {
       "metadata": {},
       "output_type": "pyout",
       "prompt_number": 72,
       "text": [
        "array([[ 0,  1,  2],\n",
        "       [10, 11, 12],\n",
        "       [20, 21, 22],\n",
        "       [30, 31, 32]])"
       ]
      }
     ],
     "prompt_number": 72
    },
    {
     "cell_type": "code",
     "collapsed": false,
     "input": [
      "a=array([0,10,20,30])\n",
      "b=array([0,1,2])\n",
      "y=a[:,newaxis]+b\n",
      "y"
     ],
     "language": "python",
     "metadata": {},
     "outputs": [
      {
       "metadata": {},
       "output_type": "pyout",
       "prompt_number": 75,
       "text": [
        "array([[ 0,  1,  2],\n",
        "       [10, 11, 12],\n",
        "       [20, 21, 22],\n",
        "       [30, 31, 32]])"
       ]
      }
     ],
     "prompt_number": 75
    },
    {
     "cell_type": "heading",
     "level": 3,
     "metadata": {},
     "source": [
      "Reading Text Files into Arrays"
     ]
    },
    {
     "cell_type": "heading",
     "level": 4,
     "metadata": {},
     "source": [
      "Tab/Space Delimited"
     ]
    },
    {
     "cell_type": "code",
     "collapsed": false,
     "input": [
      "#Read data into a list of lists and then convert to an array\n",
      "#  file=open('myfile.txt')"
     ],
     "language": "python",
     "metadata": {},
     "outputs": [],
     "prompt_number": 78
    },
    {
     "cell_type": "code",
     "collapsed": false,
     "input": [
      "#Create a list of lists for all data 'rows'\n",
      "data=[]"
     ],
     "language": "python",
     "metadata": {},
     "outputs": [],
     "prompt_number": 77
    },
    {
     "cell_type": "code",
     "collapsed": false,
     "input": [
      "for line in file:\n",
      "    #Read each row of data into a list of floats\n",
      "    fields=line.split()\n",
      "    row_data=[float(x) for x in fields]\n",
      "    #Add row to entire data set\n",
      "    data.append(row_data)"
     ],
     "language": "python",
     "metadata": {},
     "outputs": []
    },
    {
     "cell_type": "code",
     "collapsed": false,
     "input": [
      "#Finally, convert into a 2D array\n",
      "data=array(data)\n",
      "file.close()"
     ],
     "language": "python",
     "metadata": {},
     "outputs": []
    },
    {
     "cell_type": "heading",
     "level": 4,
     "metadata": {},
     "source": [
      "CSV Reader"
     ]
    },
    {
     "cell_type": "code",
     "collapsed": false,
     "input": [
      "# The csv module is also handy\n",
      "import csv\n",
      "file=open('myfile.txt')\n",
      "reader=csv.reader(file)"
     ],
     "language": "python",
     "metadata": {},
     "outputs": []
    },
    {
     "cell_type": "heading",
     "level": 4,
     "metadata": {},
     "source": [
      "Or... Use loadtxt"
     ]
    },
    {
     "cell_type": "code",
     "collapsed": false,
     "input": [
      "data=loadtxt('myfile.txt') #tab/spaces"
     ],
     "language": "python",
     "metadata": {},
     "outputs": []
    },
    {
     "cell_type": "code",
     "collapsed": false,
     "input": [
      "data=loadtxt('myfile.txt',delimiter=',',skiprows=1,usecols=(0,1,3),comments='%')\n",
      "#commas, skip row, use columns 0,1,4, skip comments"
     ],
     "language": "python",
     "metadata": {},
     "outputs": []
    },
    {
     "cell_type": "code",
     "collapsed": false,
     "input": [
      "#Conversion function to deal with dates\n",
      "import datetime\n",
      "def date_converter(s):\n",
      "    return datetime.datetime.strptime(s,\"%Y-%m-%d\")\n",
      "\n",
      "#Use the conversion function on the first column\n",
      "data=loadtxt('myfile.txt',dtype=object,converters={0:date_converter})"
     ],
     "language": "python",
     "metadata": {},
     "outputs": []
    },
    {
     "cell_type": "heading",
     "level": 3,
     "metadata": {},
     "source": [
      "Writing NumPy arrays to text files"
     ]
    },
    {
     "cell_type": "heading",
     "level": 4,
     "metadata": {},
     "source": [
      "savetxt"
     ]
    },
    {
     "cell_type": "code",
     "collapsed": false,
     "input": [
      "data=array([[1,2],[3,4]])\n",
      "savetxt('out.txt',data,fmt='%.2f',delimiter=',')"
     ],
     "language": "python",
     "metadata": {},
     "outputs": [],
     "prompt_number": 80
    },
    {
     "cell_type": "heading",
     "level": 3,
     "metadata": {},
     "source": [
      "NumPy's Native Binary File Format"
     ]
    },
    {
     "cell_type": "heading",
     "level": 4,
     "metadata": {},
     "source": [
      "npy format"
     ]
    },
    {
     "cell_type": "markdown",
     "metadata": {},
     "source": [
      "standard binary file format in NumPy for persisting a single array"
     ]
    },
    {
     "cell_type": "heading",
     "level": 4,
     "metadata": {},
     "source": [
      "npz format"
     ]
    },
    {
     "cell_type": "markdown",
     "metadata": {},
     "source": [
      "standard format for persisting multiple arrays (zip file containing \".npy\" files)"
     ]
    },
    {
     "cell_type": "heading",
     "level": 4,
     "metadata": {},
     "source": [
      "save"
     ]
    },
    {
     "cell_type": "markdown",
     "metadata": {},
     "source": [
      "save a single array"
     ]
    },
    {
     "cell_type": "heading",
     "level": 4,
     "metadata": {},
     "source": [
      "savez"
     ]
    },
    {
     "cell_type": "markdown",
     "metadata": {},
     "source": [
      "save several arrays"
     ]
    },
    {
     "cell_type": "heading",
     "level": 4,
     "metadata": {},
     "source": [
      "savez_compressed"
     ]
    },
    {
     "cell_type": "markdown",
     "metadata": {},
     "source": [
      "save several arrays into a compressed '.npz' format"
     ]
    },
    {
     "cell_type": "heading",
     "level": 4,
     "metadata": {},
     "source": [
      "load"
     ]
    },
    {
     "cell_type": "markdown",
     "metadata": {},
     "source": [
      "load a '.npy' or '.npz' file (object for npz file has a dictionary-like API)"
     ]
    },
    {
     "cell_type": "code",
     "collapsed": false,
     "input": [
      "#Binary file is roughly 1/3 size of text"
     ],
     "language": "python",
     "metadata": {},
     "outputs": [],
     "prompt_number": 81
    },
    {
     "cell_type": "heading",
     "level": 3,
     "metadata": {},
     "source": [
      "Structured Arrays"
     ]
    },
    {
     "cell_type": "code",
     "collapsed": false,
     "input": [
      "#arrays with multi-field data elements\n",
      "#conceptually spreadsheet-like\n",
      "#match memory layout of binary data"
     ],
     "language": "python",
     "metadata": {},
     "outputs": [],
     "prompt_number": 83
    },
    {
     "cell_type": "code",
     "collapsed": false,
     "input": [
      "#Declare your own dtype for a NumPy array\n",
      "particle_dtype=dtype([('mass','float32'),('velocity','float32')])\n",
      "a=array([1.0,2.0,3.0,4.0],dtype=float32)\n",
      "a.view(particle_dtype)"
     ],
     "language": "python",
     "metadata": {},
     "outputs": [
      {
       "metadata": {},
       "output_type": "pyout",
       "prompt_number": 87,
       "text": [
        "array([(1.0, 2.0), (3.0, 4.0)], \n",
        "      dtype=[('mass', '<f4'), ('velocity', '<f4')])"
       ]
      }
     ],
     "prompt_number": 87
    },
    {
     "cell_type": "heading",
     "level": 4,
     "metadata": {},
     "source": [
      "Working with a Structured Array"
     ]
    },
    {
     "cell_type": "code",
     "collapsed": false,
     "input": [
      "particles=array([(1,1),(1,2),(2,1),(1,3)],dtype=particle_dtype)\n",
      "print particles"
     ],
     "language": "python",
     "metadata": {},
     "outputs": [
      {
       "output_type": "stream",
       "stream": "stdout",
       "text": [
        "[(1.0, 1.0) (1.0, 2.0) (2.0, 1.0) (1.0, 3.0)]\n"
       ]
      }
     ],
     "prompt_number": 88
    },
    {
     "cell_type": "code",
     "collapsed": false,
     "input": [
      "#Retrieve particle 0 through indexing\n",
      "particles[0]"
     ],
     "language": "python",
     "metadata": {},
     "outputs": [
      {
       "metadata": {},
       "output_type": "pyout",
       "prompt_number": 89,
       "text": [
        "(1.0, 1.0)"
       ]
      }
     ],
     "prompt_number": 89
    },
    {
     "cell_type": "code",
     "collapsed": false,
     "input": [
      "#Retrive the mass for all particles\n",
      "print particles['mass']"
     ],
     "language": "python",
     "metadata": {},
     "outputs": [
      {
       "output_type": "stream",
       "stream": "stdout",
       "text": [
        "[ 1.  1.  2.  1.]\n"
       ]
      }
     ],
     "prompt_number": 90
    },
    {
     "cell_type": "code",
     "collapsed": false,
     "input": [
      "#Sort particles in place, with velocity as the priary filed\n",
      "particles.sort(order=('velocity','mass'))\n",
      "print particles"
     ],
     "language": "python",
     "metadata": {},
     "outputs": [
      {
       "output_type": "stream",
       "stream": "stdout",
       "text": [
        "[(1.0, 1.0) (2.0, 1.0) (1.0, 2.0) (1.0, 3.0)]\n"
       ]
      }
     ],
     "prompt_number": 91
    },
    {
     "cell_type": "heading",
     "level": 4,
     "metadata": {},
     "source": [
      "Declaration Format"
     ]
    },
    {
     "cell_type": "markdown",
     "metadata": {},
     "source": [
      "A 'float32' filed is displayed as a '<f4'. The '<' means little endian, and the f4 is a four byte float."
     ]
    },
    {
     "cell_type": "heading",
     "level": 4,
     "metadata": {},
     "source": [
      "Mixed Data Types"
     ]
    },
    {
     "cell_type": "code",
     "collapsed": false,
     "input": [
      "person_dtype=dtype([('name','S10'),('age',int),('weight',float)])\n",
      "person_dtype.itemsize"
     ],
     "language": "python",
     "metadata": {},
     "outputs": [
      {
       "metadata": {},
       "output_type": "pyout",
       "prompt_number": 94,
       "text": [
        "22"
       ]
      }
     ],
     "prompt_number": 94
    },
    {
     "cell_type": "code",
     "collapsed": false,
     "input": [
      "#create an empty 2D array \n",
      "people=empty((2,3),dtype=person_dtype)"
     ],
     "language": "python",
     "metadata": {},
     "outputs": [],
     "prompt_number": 99
    },
    {
     "cell_type": "code",
     "collapsed": false,
     "input": [
      "#fill in the fields with data\n",
      "people['name']=[['Brad','Jane','John'],['Fred','Henry','George']]\n",
      "people['age']=[[33,25,47],[54,29,61]]\n",
      "people['weight']=[[135,105,225],[140,154,202]]"
     ],
     "language": "python",
     "metadata": {},
     "outputs": [],
     "prompt_number": 103
    },
    {
     "cell_type": "code",
     "collapsed": false,
     "input": [
      "people[0,0]"
     ],
     "language": "python",
     "metadata": {},
     "outputs": [
      {
       "metadata": {},
       "output_type": "pyout",
       "prompt_number": 104,
       "text": [
        "('Brad', 33, 135.0)"
       ]
      }
     ],
     "prompt_number": 104
    },
    {
     "cell_type": "code",
     "collapsed": false,
     "input": [
      "people['name']"
     ],
     "language": "python",
     "metadata": {},
     "outputs": [
      {
       "metadata": {},
       "output_type": "pyout",
       "prompt_number": 105,
       "text": [
        "array([['Brad', 'Jane', 'John'],\n",
        "       ['Fred', 'Henry', 'George']], \n",
        "      dtype='|S10')"
       ]
      }
     ],
     "prompt_number": 105
    },
    {
     "cell_type": "heading",
     "level": 3,
     "metadata": {},
     "source": [
      "Reading Structured Arrays from Text Files"
     ]
    },
    {
     "cell_type": "heading",
     "level": 4,
     "metadata": {},
     "source": [
      "loadtxt with structured arrays"
     ]
    },
    {
     "cell_type": "code",
     "collapsed": false,
     "input": [
      "person_dtype=dtype([('name','S10'),('age',int),('weight',float)])\n",
      "people=loadtxt('people.txt',skiprows=1,dtype=person_dtype)"
     ],
     "language": "python",
     "metadata": {},
     "outputs": []
    },
    {
     "cell_type": "heading",
     "level": 4,
     "metadata": {},
     "source": [
      "genfromtext for structured arrays"
     ]
    },
    {
     "cell_type": "code",
     "collapsed": false,
     "input": [
      "#can autoatically read the field names from the first line of the file"
     ],
     "language": "python",
     "metadata": {},
     "outputs": []
    },
    {
     "cell_type": "heading",
     "level": 3,
     "metadata": {},
     "source": [
      "Array Fields and Nested dtypes"
     ]
    },
    {
     "cell_type": "code",
     "collapsed": false,
     "input": [
      "dt=dtype([('time',uint64),('size',uint32),('position',[('x',float32),('y',float32)]),('gain',uint8)])"
     ],
     "language": "python",
     "metadata": {},
     "outputs": [],
     "prompt_number": 106
    },
    {
     "cell_type": "heading",
     "level": 3,
     "metadata": {},
     "source": [
      "Record Arrays"
     ]
    },
    {
     "cell_type": "markdown",
     "metadata": {},
     "source": [
      "Record Arrays is 'syntactic sugar' around structured arrays. That allows you to accs fields as attributes instead of through a dictionary interface"
     ]
    },
    {
     "cell_type": "heading",
     "level": 4,
     "metadata": {},
     "source": [
      "fromrecords"
     ]
    },
    {
     "cell_type": "code",
     "collapsed": false,
     "input": [
      "#creating record arrays\n",
      "from numpy import rec\n",
      "particle_dtype=dtype([('mass','float32'),('velocity','float32')])\n",
      "particles_rec=rec.fromrecords([(1,1),(1,2),(2,1),(1,3)],dtype=particle_dtype)"
     ],
     "language": "python",
     "metadata": {},
     "outputs": [],
     "prompt_number": 108
    },
    {
     "cell_type": "code",
     "collapsed": false,
     "input": [
      "#In recarrays, fields are accesible as attributes\n",
      "particles_rec.mass"
     ],
     "language": "python",
     "metadata": {},
     "outputs": [
      {
       "metadata": {},
       "output_type": "pyout",
       "prompt_number": 109,
       "text": [
        "array([ 1.,  1.,  2.,  1.], dtype=float32)"
       ]
      }
     ],
     "prompt_number": 109
    },
    {
     "cell_type": "heading",
     "level": 4,
     "metadata": {},
     "source": [
      "Record Arrays through view()"
     ]
    },
    {
     "cell_type": "code",
     "collapsed": false,
     "input": [
      "particle_dtype=dtype([('mass','float32'),('velocity','float32')])\n",
      "particles=array([(1,1),(1,2),(2,1),(1,3)],dtype=particle_dtype)\n",
      "particles_rec=particles.view(recarray)"
     ],
     "language": "python",
     "metadata": {},
     "outputs": [],
     "prompt_number": 110
    },
    {
     "cell_type": "code",
     "collapsed": false,
     "input": [
      "particles_rec.mass"
     ],
     "language": "python",
     "metadata": {},
     "outputs": [
      {
       "metadata": {},
       "output_type": "pyout",
       "prompt_number": 111,
       "text": [
        "array([ 1.,  1.,  2.,  1.], dtype=float32)"
       ]
      }
     ],
     "prompt_number": 111
    },
    {
     "cell_type": "heading",
     "level": 3,
     "metadata": {},
     "source": [
      "Memory Maps with NumPy"
     ]
    },
    {
     "cell_type": "heading",
     "level": 5,
     "metadata": {},
     "source": [
      "Methods for Creating:"
     ]
    },
    {
     "cell_type": "markdown",
     "metadata": {},
     "source": [
      "memmap: subclass of ndarray that manages the memory mapping details\n"
     ]
    },
    {
     "cell_type": "markdown",
     "metadata": {},
     "source": [
      "frombuffer: create an array from a memory mapped buffer object"
     ]
    },
    {
     "cell_type": "markdown",
     "metadata": {},
     "source": [
      "ndarray constructor: use the buffer keyword to pass in a memory mapped buffer"
     ]
    },
    {
     "cell_type": "code",
     "collapsed": false,
     "input": [],
     "language": "python",
     "metadata": {},
     "outputs": []
    }
   ],
   "metadata": {}
  }
 ]
}