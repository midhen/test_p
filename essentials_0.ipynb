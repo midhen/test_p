{
 "metadata": {
  "name": "",
  "signature": "sha256:90daba39e335439e63680cc018972a1b537a510e2c9ba2035a899bf9b674106a"
 },
 "nbformat": 3,
 "nbformat_minor": 0,
 "worksheets": [
  {
   "cells": [
    {
     "cell_type": "code",
     "collapsed": false,
     "input": [
      "a=1"
     ],
     "language": "python",
     "metadata": {},
     "outputs": [],
     "prompt_number": 1
    },
    {
     "cell_type": "code",
     "collapsed": false,
     "input": [
      "b=[1,2,3]"
     ],
     "language": "python",
     "metadata": {},
     "outputs": [],
     "prompt_number": 2
    },
    {
     "cell_type": "markdown",
     "metadata": {},
     "source": [
      "List available variables"
     ]
    },
    {
     "cell_type": "code",
     "collapsed": false,
     "input": [
      "%whos"
     ],
     "language": "python",
     "metadata": {},
     "outputs": [
      {
       "output_type": "stream",
       "stream": "stdout",
       "text": [
        "Variable   Type    Data/Info\n",
        "----------------------------\n",
        "a          int     1\n",
        "b          list    n=3\n"
       ]
      }
     ],
     "prompt_number": 3
    },
    {
     "cell_type": "markdown",
     "metadata": {},
     "source": [
      "Remove user defined variables (also removes names imported by PyLab)"
     ]
    },
    {
     "cell_type": "code",
     "collapsed": false,
     "input": [
      "%reset"
     ],
     "language": "python",
     "metadata": {},
     "outputs": [
      {
       "name": "stdout",
       "output_type": "stream",
       "stream": "stdout",
       "text": [
        "Once deleted, variables cannot be recovered. Proceed (y/[n])? y\n"
       ]
      }
     ],
     "prompt_number": 4
    },
    {
     "cell_type": "markdown",
     "metadata": {},
     "source": [
      "Reload pyLab"
     ]
    },
    {
     "cell_type": "code",
     "collapsed": false,
     "input": [
      "%pylab"
     ],
     "language": "python",
     "metadata": {},
     "outputs": [
      {
       "output_type": "stream",
       "stream": "stdout",
       "text": [
        "Using matplotlib backend: WXAgg\n",
        "Populating the interactive namespace from numpy and matplotlib\n"
       ]
      }
     ],
     "prompt_number": 6
    },
    {
     "cell_type": "markdown",
     "metadata": {},
     "source": [
      "Change directory"
     ]
    },
    {
     "cell_type": "code",
     "collapsed": false,
     "input": [
      "%cd C:\\Users\\hruby.p\\Downloads"
     ],
     "language": "python",
     "metadata": {},
     "outputs": [
      {
       "output_type": "stream",
       "stream": "stdout",
       "text": [
        "C:\\Users\\hruby.p\\Downloads\n"
       ]
      }
     ],
     "prompt_number": 8
    },
    {
     "cell_type": "markdown",
     "metadata": {},
     "source": [
      "List directory contents"
     ]
    },
    {
     "cell_type": "code",
     "collapsed": false,
     "input": [
      "%ls"
     ],
     "language": "python",
     "metadata": {},
     "outputs": [
      {
       "output_type": "stream",
       "stream": "stdout",
       "text": [
        " Volume in drive C is Windows\n",
        " Volume Serial Number is B2B0-D590\n",
        "\n",
        " Directory of C:\\Users\\hruby.p\\Downloads\n",
        "\n",
        "14/02/2015  15:25    <DIR>          .\n",
        "14/02/2015  15:25    <DIR>          ..\n",
        "14/02/2015  15:25    <DIR>          .ipynb_checkpoints\n",
        "05/12/2014  13:14             1,048 11__MATLAB_File_Instalation_Key_216921_216925_05.12.2012.txt\n",
        "08/01/2015  14:06       260,359,168 8aw217ww.exe\n",
        "08/01/2015  14:16         6,169,147 9400753446.pdf\n",
        "14/02/2015  00:51       384,818,768 Anaconda-2.1.0-Windows-x86_64.exe\n",
        "23/12/2014  10:28         4,579,184 avg_free_stb_eu_2015_5315.exe\n",
        "14/02/2015  09:47       360,419,328 canopy-1.5.2-win-64.msi\n",
        "31/12/2014  20:45       419,430,400 CAST1NGCZ3CH-443.part1.rar\n",
        "23/12/2014  10:52       226,075,376 cfw_installer_6106_53.exe\n",
        "24/12/2014  14:14       521,039,699 czech-casting-petra-8312.wmv\n",
        "23/12/2014  10:41        53,161,456 dragonsetup.exe\n",
        "05/12/2014  13:09        13,429,504 DTLite4491-0356.exe\n",
        "13/02/2015  23:42           675,936 GitHubSetup.exe\n",
        "05/12/2014  13:14                55 licence_licence.dat\n",
        "19/12/2014  14:20    <DIR>          Lorn - Certain Limbs (2014)\n",
        "28/12/2014  10:16        23,464,693 Lucinda-Williams---2014---Where-The-Spirit-Meets-The-Bone-USA-Folk-Blues-Country-Rock-s.a.-BOB-DYLAN-JOAN-BAEZ-JONI-MITCHELL.zip\n",
        "05/01/2015  18:38        15,646,313 Matematika-IV---Numerick\u00a0-anal\u00ecza.pdf\n",
        "05/12/2014  13:15    <DIR>          matlab\n",
        "05/12/2014  13:13     5,861,756,928 matlab2012b_cd1_Windows.iso\n",
        "28/12/2014  08:52         5,599,038 Modeling of asphalt concrete.pdf\n",
        "24/12/2014  19:14        44,543,584 SkypeSetupFull.exe\n",
        "28/12/2014  20:12       844,310,528 SW_DVD5_Office_Professional_Plus_2013_64Bit_Czech_MLF_X18-55291.ISO\n",
        "30/12/2014  20:51       633,684,985 What.We.Do.In.The.Shadows.2014.HDRip.x264-COX.mkv\n",
        "14/02/2015  15:25            72,868 whirlwind_tour_1418647564.ipynb\n",
        "28/12/2014  18:44         1,766,040 wrar520.exe\n",
        "28/12/2014  15:49            14,100 Z\u00a0pis_porada_19_12_2014 (1).docx\n",
        "28/12/2014  08:31            14,100 Z\u00a0pis_porada_19_12_2014.docx\n",
        "23/12/2014  10:54            46,953 ZWD_PDF_PASKA.pdf\n",
        "              25 File(s)  9,681,079,199 bytes\n",
        "               5 Dir(s)  168,102,371,328 bytes free\n"
       ]
      }
     ],
     "prompt_number": 9
    },
    {
     "cell_type": "markdown",
     "metadata": {},
     "source": [
      "Print working directory name"
     ]
    },
    {
     "cell_type": "code",
     "collapsed": false,
     "input": [
      "%pwd"
     ],
     "language": "python",
     "metadata": {},
     "outputs": [
      {
       "metadata": {},
       "output_type": "pyout",
       "prompt_number": 10,
       "text": [
        "u'C:\\\\Users\\\\hruby.p\\\\Downloads'"
       ]
      }
     ],
     "prompt_number": 10
    },
    {
     "cell_type": "markdown",
     "metadata": {},
     "source": [
      "Bookmark the directory, so we can return to it easily"
     ]
    },
    {
     "cell_type": "code",
     "collapsed": false,
     "input": [
      "%bookmark download"
     ],
     "language": "python",
     "metadata": {},
     "outputs": [],
     "prompt_number": 11
    },
    {
     "cell_type": "code",
     "collapsed": false,
     "input": [
      "%cd C:\\Users\\hruby.p\\Documents\\IPython Notebooks"
     ],
     "language": "python",
     "metadata": {},
     "outputs": [
      {
       "output_type": "stream",
       "stream": "stdout",
       "text": [
        "C:\\Users\\hruby.p\\Documents\\IPython Notebooks\n"
       ]
      }
     ],
     "prompt_number": 13
    },
    {
     "cell_type": "code",
     "collapsed": false,
     "input": [
      "cd download"
     ],
     "language": "python",
     "metadata": {},
     "outputs": [
      {
       "output_type": "stream",
       "stream": "stdout",
       "text": [
        "(bookmark:download) -> C:\\Users\\hruby.p\\Downloads\n",
        "C:\\Users\\hruby.p\\Downloads\n"
       ]
      }
     ],
     "prompt_number": 14
    },
    {
     "cell_type": "markdown",
     "metadata": {},
     "source": [
      "Tab Completion - package names and their content can be discovered with tab-completion"
     ]
    },
    {
     "cell_type": "code",
     "collapsed": false,
     "input": [
      "#import sc<HIT TAB KEY>"
     ],
     "language": "python",
     "metadata": {},
     "outputs": [],
     "prompt_number": 16
    },
    {
     "cell_type": "markdown",
     "metadata": {},
     "source": [
      "Follow a command with '?' to print its documentation"
     ]
    },
    {
     "cell_type": "code",
     "collapsed": false,
     "input": [
      "len?"
     ],
     "language": "python",
     "metadata": {},
     "outputs": [],
     "prompt_number": 17
    },
    {
     "cell_type": "markdown",
     "metadata": {},
     "source": [
      "Source code"
     ]
    },
    {
     "cell_type": "code",
     "collapsed": false,
     "input": [
      "len??"
     ],
     "language": "python",
     "metadata": {},
     "outputs": [],
     "prompt_number": 19
    },
    {
     "cell_type": "markdown",
     "metadata": {},
     "source": [
      "Print entire history"
     ]
    },
    {
     "cell_type": "code",
     "collapsed": false,
     "input": [
      "%hist"
     ],
     "language": "python",
     "metadata": {},
     "outputs": [
      {
       "output_type": "stream",
       "stream": "stdout",
       "text": [
        "a=1\n",
        "b=[1,2,3]\n",
        "%whos\n",
        "%reset\n",
        "plot\n",
        "%pylab\n",
        "%cd Downloads\n",
        "%cd C:\\Users\\hruby.p\\Downloads\n",
        "%ls\n",
        "%pwd\n",
        "%bookmark download\n",
        "%pwd\n",
        "%cd C:\\Users\\hruby.p\\Documents\\IPython Notebooks\n",
        "cd download\n",
        "import sc<HIT TAB KEY>\n",
        "#import sc<HIT TAB KEY>\n",
        "len?\n",
        "import scipy\n",
        "len??\n",
        "%hist\n"
       ]
      }
     ],
     "prompt_number": 20
    },
    {
     "cell_type": "markdown",
     "metadata": {},
     "source": [
      "Execute a python file"
     ]
    },
    {
     "cell_type": "code",
     "collapsed": false,
     "input": [
      "# %run"
     ],
     "language": "python",
     "metadata": {},
     "outputs": [],
     "prompt_number": 21
    },
    {
     "cell_type": "markdown",
     "metadata": {},
     "source": [
      "To edit a script"
     ]
    },
    {
     "cell_type": "code",
     "collapsed": false,
     "input": [
      "# %edit"
     ],
     "language": "python",
     "metadata": {},
     "outputs": [],
     "prompt_number": 22
    },
    {
     "cell_type": "markdown",
     "metadata": {},
     "source": [
      "IPython notebook"
     ]
    },
    {
     "cell_type": "markdown",
     "metadata": {},
     "source": [
      "(Canopy) File-New-IPython notebook"
     ]
    },
    {
     "cell_type": "code",
     "collapsed": false,
     "input": [],
     "language": "python",
     "metadata": {},
     "outputs": []
    }
   ],
   "metadata": {}
  }
 ]
}