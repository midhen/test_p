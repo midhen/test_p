{
 "metadata": {
  "name": "",
  "signature": "sha256:4ebe26c20521c954639287341c0fb5b6f22611fa3ef1d1dc07183041387a982c"
 },
 "nbformat": 3,
 "nbformat_minor": 0,
 "worksheets": [
  {
   "cells": [
    {
     "cell_type": "heading",
     "level": 3,
     "metadata": {},
     "source": [
      "Type Casting"
     ]
    },
    {
     "cell_type": "markdown",
     "metadata": {},
     "source": [
      "ASARRAY"
     ]
    },
    {
     "cell_type": "code",
     "collapsed": false,
     "input": [
      "a=(1.5,-3)"
     ],
     "language": "python",
     "metadata": {},
     "outputs": [],
     "prompt_number": 7
    },
    {
     "cell_type": "code",
     "collapsed": false,
     "input": [
      "asarray(a,dtype=float64)"
     ],
     "language": "python",
     "metadata": {},
     "outputs": [
      {
       "metadata": {},
       "output_type": "pyout",
       "prompt_number": 12,
       "text": [
        "array([ 1.5, -3. ])"
       ]
      }
     ],
     "prompt_number": 12
    },
    {
     "cell_type": "code",
     "collapsed": false,
     "input": [
      "#does not make a copy if type is the same"
     ],
     "language": "python",
     "metadata": {},
     "outputs": [],
     "prompt_number": 13
    },
    {
     "cell_type": "markdown",
     "metadata": {},
     "source": [
      "ASTYPE"
     ]
    },
    {
     "cell_type": "code",
     "collapsed": false,
     "input": [
      "a=array([1.5,-3])\n",
      "a.astype(float32)"
     ],
     "language": "python",
     "metadata": {},
     "outputs": [
      {
       "metadata": {},
       "output_type": "pyout",
       "prompt_number": 11,
       "text": [
        "array([ 1.5, -3. ], dtype=float32)"
       ]
      }
     ],
     "prompt_number": 11
    },
    {
     "cell_type": "code",
     "collapsed": false,
     "input": [
      "#returns copy of the array"
     ],
     "language": "python",
     "metadata": {},
     "outputs": []
    },
    {
     "cell_type": "heading",
     "level": 3,
     "metadata": {},
     "source": [
      "Array Calculation"
     ]
    },
    {
     "cell_type": "markdown",
     "metadata": {},
     "source": [
      "SUM Function"
     ]
    },
    {
     "cell_type": "code",
     "collapsed": false,
     "input": [
      "a=array([[1,2,3],[4,5,6]])"
     ],
     "language": "python",
     "metadata": {},
     "outputs": [],
     "prompt_number": 14
    },
    {
     "cell_type": "code",
     "collapsed": false,
     "input": [
      "sum(a)"
     ],
     "language": "python",
     "metadata": {},
     "outputs": [
      {
       "metadata": {},
       "output_type": "pyout",
       "prompt_number": 15,
       "text": [
        "21"
       ]
      }
     ],
     "prompt_number": 15
    },
    {
     "cell_type": "code",
     "collapsed": false,
     "input": [
      "#supply the keyword axis to sum along the 0th axis\n",
      "sum(a,axis=0)"
     ],
     "language": "python",
     "metadata": {},
     "outputs": [
      {
       "metadata": {},
       "output_type": "pyout",
       "prompt_number": 16,
       "text": [
        "array([5, 7, 9])"
       ]
      }
     ],
     "prompt_number": 16
    },
    {
     "cell_type": "markdown",
     "metadata": {},
     "source": [
      "or"
     ]
    },
    {
     "cell_type": "code",
     "collapsed": false,
     "input": [
      "a.sum()"
     ],
     "language": "python",
     "metadata": {},
     "outputs": [
      {
       "metadata": {},
       "output_type": "pyout",
       "prompt_number": 17,
       "text": [
        "21"
       ]
      }
     ],
     "prompt_number": 17
    },
    {
     "cell_type": "code",
     "collapsed": false,
     "input": [
      "a.sum(axis=0)"
     ],
     "language": "python",
     "metadata": {},
     "outputs": [
      {
       "metadata": {},
       "output_type": "pyout",
       "prompt_number": 18,
       "text": [
        "array([5, 7, 9])"
       ]
      }
     ],
     "prompt_number": 18
    },
    {
     "cell_type": "markdown",
     "metadata": {},
     "source": [
      "Product"
     ]
    },
    {
     "cell_type": "code",
     "collapsed": false,
     "input": [
      "a.prod(axis=0)"
     ],
     "language": "python",
     "metadata": {},
     "outputs": [
      {
       "metadata": {},
       "output_type": "pyout",
       "prompt_number": 19,
       "text": [
        "array([ 4, 10, 18])"
       ]
      }
     ],
     "prompt_number": 19
    },
    {
     "cell_type": "code",
     "collapsed": false,
     "input": [
      "prod(a,axis=0)"
     ],
     "language": "python",
     "metadata": {},
     "outputs": [
      {
       "metadata": {},
       "output_type": "pyout",
       "prompt_number": 20,
       "text": [
        "array([ 4, 10, 18])"
       ]
      }
     ],
     "prompt_number": 20
    },
    {
     "cell_type": "markdown",
     "metadata": {},
     "source": [
      "MIN"
     ]
    },
    {
     "cell_type": "code",
     "collapsed": false,
     "input": [
      "a=array([2.,3.,0.,1.])\n",
      "a.min(axis=0)\n",
      "#or\n",
      "amin(a,axis=0)  #faster"
     ],
     "language": "python",
     "metadata": {},
     "outputs": [
      {
       "metadata": {},
       "output_type": "pyout",
       "prompt_number": 25,
       "text": [
        "0.0"
       ]
      }
     ],
     "prompt_number": 25
    },
    {
     "cell_type": "markdown",
     "metadata": {},
     "source": [
      "ARGMIN"
     ]
    },
    {
     "cell_type": "code",
     "collapsed": false,
     "input": [
      "#Find index of minimum value\n",
      "a.argmin(axis=0)\n",
      "#or\n",
      "argmin(a,axis=0)"
     ],
     "language": "python",
     "metadata": {},
     "outputs": [
      {
       "metadata": {},
       "output_type": "pyout",
       "prompt_number": 27,
       "text": [
        "2"
       ]
      }
     ],
     "prompt_number": 27
    },
    {
     "cell_type": "markdown",
     "metadata": {},
     "source": [
      "same with MAX, ARGMAX"
     ]
    },
    {
     "cell_type": "markdown",
     "metadata": {},
     "source": [
      "MEAN"
     ]
    },
    {
     "cell_type": "code",
     "collapsed": false,
     "input": [
      "a=array([[1,2,3],[4,5,6]])\n",
      "a.mean(axis=0)\n",
      "#or\n",
      "mean(a,axis=0)"
     ],
     "language": "python",
     "metadata": {},
     "outputs": [
      {
       "metadata": {},
       "output_type": "pyout",
       "prompt_number": 30,
       "text": [
        "array([ 2.5,  3.5,  4.5])"
       ]
      }
     ],
     "prompt_number": 30
    },
    {
     "cell_type": "markdown",
     "metadata": {},
     "source": [
      "AVERAGE"
     ]
    },
    {
     "cell_type": "code",
     "collapsed": false,
     "input": [
      "#average can also calculate a weighted average\n",
      "average(a,weights=[1,2],axis=0)"
     ],
     "language": "python",
     "metadata": {},
     "outputs": [
      {
       "metadata": {},
       "output_type": "pyout",
       "prompt_number": 32,
       "text": [
        "array([ 3.,  4.,  5.])"
       ]
      }
     ],
     "prompt_number": 32
    },
    {
     "cell_type": "markdown",
     "metadata": {},
     "source": [
      "Standard Dev./Variance"
     ]
    },
    {
     "cell_type": "code",
     "collapsed": false,
     "input": [
      "#Standard Deviation\n",
      "a.std(axis=0)"
     ],
     "language": "python",
     "metadata": {},
     "outputs": [
      {
       "metadata": {},
       "output_type": "pyout",
       "prompt_number": 34,
       "text": [
        "array([ 1.5,  1.5,  1.5])"
       ]
      }
     ],
     "prompt_number": 34
    },
    {
     "cell_type": "code",
     "collapsed": false,
     "input": [
      "#Variance\n",
      "a.var(axis=0)\n",
      "#or\n",
      "var(a,axis=0)"
     ],
     "language": "python",
     "metadata": {},
     "outputs": [
      {
       "metadata": {},
       "output_type": "pyout",
       "prompt_number": 36,
       "text": [
        "array([ 2.25,  2.25,  2.25])"
       ]
      }
     ],
     "prompt_number": 36
    },
    {
     "cell_type": "markdown",
     "metadata": {},
     "source": [
      "CLIP"
     ]
    },
    {
     "cell_type": "code",
     "collapsed": false,
     "input": [
      "#Limit values to a range\n",
      "a.clip(3,5)"
     ],
     "language": "python",
     "metadata": {},
     "outputs": [
      {
       "metadata": {},
       "output_type": "pyout",
       "prompt_number": 37,
       "text": [
        "array([[3, 3, 3],\n",
        "       [4, 5, 5]])"
       ]
      }
     ],
     "prompt_number": 37
    },
    {
     "cell_type": "markdown",
     "metadata": {},
     "source": [
      "PEAK TO PEAK"
     ]
    },
    {
     "cell_type": "code",
     "collapsed": false,
     "input": [
      "#Calculate max-min for array along columns\n",
      "a.ptp(axis=0)"
     ],
     "language": "python",
     "metadata": {},
     "outputs": [
      {
       "metadata": {},
       "output_type": "pyout",
       "prompt_number": 39,
       "text": [
        "array([3, 3, 3])"
       ]
      }
     ],
     "prompt_number": 39
    },
    {
     "cell_type": "markdown",
     "metadata": {},
     "source": [
      "ROUND"
     ]
    },
    {
     "cell_type": "code",
     "collapsed": false,
     "input": [
      "a=array([1.35,2.5,1.5])\n",
      "a.round()"
     ],
     "language": "python",
     "metadata": {},
     "outputs": [
      {
       "metadata": {},
       "output_type": "pyout",
       "prompt_number": 41,
       "text": [
        "array([ 1.,  2.,  2.])"
       ]
      }
     ],
     "prompt_number": 41
    },
    {
     "cell_type": "code",
     "collapsed": false,
     "input": [
      "a.round(decimals=1)"
     ],
     "language": "python",
     "metadata": {},
     "outputs": [
      {
       "metadata": {},
       "output_type": "pyout",
       "prompt_number": 42,
       "text": [
        "array([ 1.4,  2.5,  1.5])"
       ]
      }
     ],
     "prompt_number": 42
    },
    {
     "cell_type": "heading",
     "level": 3,
     "metadata": {},
     "source": [
      "Sorting"
     ]
    },
    {
     "cell_type": "code",
     "collapsed": false,
     "input": [
      "names=array(['bob','sue','jan','ed'])\n",
      "weights=array([20.8,93.2,53.4,61.8])"
     ],
     "language": "python",
     "metadata": {},
     "outputs": [],
     "prompt_number": 43
    },
    {
     "cell_type": "markdown",
     "metadata": {},
     "source": [
      "SORT"
     ]
    },
    {
     "cell_type": "code",
     "collapsed": false,
     "input": [
      "sort(weights)"
     ],
     "language": "python",
     "metadata": {},
     "outputs": [
      {
       "metadata": {},
       "output_type": "pyout",
       "prompt_number": 44,
       "text": [
        "array([ 20.8,  53.4,  61.8,  93.2])"
       ]
      }
     ],
     "prompt_number": 44
    },
    {
     "cell_type": "markdown",
     "metadata": {},
     "source": [
      "ARGSORT"
     ]
    },
    {
     "cell_type": "code",
     "collapsed": false,
     "input": [
      "#what order the indices of the sorted values \n",
      "ordered_indices=argsort(weights)\n",
      "ordered_indices"
     ],
     "language": "python",
     "metadata": {},
     "outputs": [
      {
       "metadata": {},
       "output_type": "pyout",
       "prompt_number": 47,
       "text": [
        "array([0, 2, 3, 1], dtype=int64)"
       ]
      }
     ],
     "prompt_number": 47
    },
    {
     "cell_type": "code",
     "collapsed": false,
     "input": [
      "#using fancy slicing, you can return the weights in order\n",
      "weights[ordered_indices]"
     ],
     "language": "python",
     "metadata": {},
     "outputs": [
      {
       "metadata": {},
       "output_type": "pyout",
       "prompt_number": 48,
       "text": [
        "array([ 20.8,  53.4,  61.8,  93.2])"
       ]
      }
     ],
     "prompt_number": 48
    },
    {
     "cell_type": "code",
     "collapsed": false,
     "input": [
      "#names in order from lightest to heaviest\n",
      "names[ordered_indices]"
     ],
     "language": "python",
     "metadata": {},
     "outputs": [
      {
       "metadata": {},
       "output_type": "pyout",
       "prompt_number": 49,
       "text": [
        "array(['bob', 'jan', 'ed', 'sue'], \n",
        "      dtype='|S3')"
       ]
      }
     ],
     "prompt_number": 49
    },
    {
     "cell_type": "markdown",
     "metadata": {},
     "source": [
      "SORT and ARGSORT Methods"
     ]
    },
    {
     "cell_type": "code",
     "collapsed": false,
     "input": [
      "weights.argsort()"
     ],
     "language": "python",
     "metadata": {},
     "outputs": [
      {
       "metadata": {},
       "output_type": "pyout",
       "prompt_number": 50,
       "text": [
        "array([0, 2, 3, 1], dtype=int64)"
       ]
      }
     ],
     "prompt_number": 50
    },
    {
     "cell_type": "code",
     "collapsed": false,
     "input": [
      "#The sort method in 'in place' so it modifies data directly\n",
      "weights.sort()\n",
      "weights"
     ],
     "language": "python",
     "metadata": {},
     "outputs": [
      {
       "metadata": {},
       "output_type": "pyout",
       "prompt_number": 51,
       "text": [
        "array([ 20.8,  53.4,  61.8,  93.2])"
       ]
      }
     ],
     "prompt_number": 51
    },
    {
     "cell_type": "markdown",
     "metadata": {},
     "source": [
      "Sorting in Multiple Dim"
     ]
    },
    {
     "cell_type": "code",
     "collapsed": false,
     "input": [
      "#default to sorting along the last axis (in 2D - rows sorted independently)\n",
      "a=array([[.2,.1,.5],[.4,.8,.3],[.9,.6,.7]])\n",
      "sort(a)"
     ],
     "language": "python",
     "metadata": {},
     "outputs": [
      {
       "metadata": {},
       "output_type": "pyout",
       "prompt_number": 53,
       "text": [
        "array([[ 0.1,  0.2,  0.5],\n",
        "       [ 0.3,  0.4,  0.8],\n",
        "       [ 0.6,  0.7,  0.9]])"
       ]
      }
     ],
     "prompt_number": 53
    },
    {
     "cell_type": "code",
     "collapsed": false,
     "input": [
      "#colums independently\n",
      "sort(a,axis=0)"
     ],
     "language": "python",
     "metadata": {},
     "outputs": [
      {
       "metadata": {},
       "output_type": "pyout",
       "prompt_number": 54,
       "text": [
        "array([[ 0.2,  0.1,  0.3],\n",
        "       [ 0.4,  0.6,  0.5],\n",
        "       [ 0.9,  0.8,  0.7]])"
       ]
      }
     ],
     "prompt_number": 54
    },
    {
     "cell_type": "markdown",
     "metadata": {},
     "source": [
      "SEARCHSORTED"
     ]
    },
    {
     "cell_type": "code",
     "collapsed": false,
     "input": [
      "sorted=linspace(0,1,5)\n",
      "values=array([.1,.8,.3,.12,.5,.25])"
     ],
     "language": "python",
     "metadata": {},
     "outputs": [],
     "prompt_number": 56
    },
    {
     "cell_type": "code",
     "collapsed": false,
     "input": [
      "searchsorted(sorted,values)"
     ],
     "language": "python",
     "metadata": {},
     "outputs": [
      {
       "metadata": {},
       "output_type": "pyout",
       "prompt_number": 57,
       "text": [
        "array([1, 4, 2, 1, 2, 1], dtype=int64)"
       ]
      }
     ],
     "prompt_number": 57
    },
    {
     "cell_type": "code",
     "collapsed": false,
     "input": [
      "#.1,.12,.25 lives between 0 and 0.25"
     ],
     "language": "python",
     "metadata": {},
     "outputs": []
    },
    {
     "cell_type": "code",
     "collapsed": false,
     "input": [
      "#Ex\n",
      "data=rand(100)\n",
      "data.sort()\n",
      "bounds=.4,.6\n",
      "\n",
      "#this extracts the values between 0.4 and 0.6\n",
      "low_index,high_index=searchsorted(data,bounds)\n",
      "data[low_index:high_index]"
     ],
     "language": "python",
     "metadata": {},
     "outputs": [
      {
       "metadata": {},
       "output_type": "pyout",
       "prompt_number": 59,
       "text": [
        "array([ 0.41672497,  0.4297423 ,  0.4420737 ,  0.44391768,  0.44652626,\n",
        "        0.46254361,  0.47302569,  0.4739478 ,  0.49564403,  0.49889954,\n",
        "        0.50345678,  0.51031318,  0.51066441,  0.52377715,  0.53547392,\n",
        "        0.54434586,  0.54849417,  0.55564828,  0.56339091,  0.57075477])"
       ]
      }
     ],
     "prompt_number": 59
    },
    {
     "cell_type": "heading",
     "level": 3,
     "metadata": {},
     "source": [
      "Modifying Array Shape"
     ]
    },
    {
     "cell_type": "markdown",
     "metadata": {},
     "source": [
      "SHAPE"
     ]
    },
    {
     "cell_type": "code",
     "collapsed": false,
     "input": [
      "a=arange(6)\n",
      "a.shape"
     ],
     "language": "python",
     "metadata": {},
     "outputs": [
      {
       "metadata": {},
       "output_type": "pyout",
       "prompt_number": 61,
       "text": [
        "(6L,)"
       ]
      }
     ],
     "prompt_number": 61
    },
    {
     "cell_type": "code",
     "collapsed": false,
     "input": [
      "#reshape array in-place 2x3\n",
      "a.shape=(2,3)"
     ],
     "language": "python",
     "metadata": {},
     "outputs": [],
     "prompt_number": 62
    },
    {
     "cell_type": "markdown",
     "metadata": {},
     "source": [
      "RESHAPE"
     ]
    },
    {
     "cell_type": "code",
     "collapsed": false,
     "input": [
      "#return a new array\n",
      "a.reshape(3,2)"
     ],
     "language": "python",
     "metadata": {},
     "outputs": [
      {
       "metadata": {},
       "output_type": "pyout",
       "prompt_number": 63,
       "text": [
        "array([[0, 1],\n",
        "       [2, 3],\n",
        "       [4, 5]])"
       ]
      }
     ],
     "prompt_number": 63
    },
    {
     "cell_type": "code",
     "collapsed": false,
     "input": [
      "#reshape cannot change the number of elements in an array"
     ],
     "language": "python",
     "metadata": {},
     "outputs": []
    },
    {
     "cell_type": "markdown",
     "metadata": {},
     "source": [
      "Indexing with NEWAXIS"
     ]
    },
    {
     "cell_type": "code",
     "collapsed": false,
     "input": [
      "#index that inserts a new axis in the array at the specified location\n",
      "#increases the array's dim by 1\n",
      "a=array([0,1,2])\n",
      "shape(a)"
     ],
     "language": "python",
     "metadata": {},
     "outputs": [
      {
       "metadata": {},
       "output_type": "pyout",
       "prompt_number": 66,
       "text": [
        "(3L,)"
       ]
      }
     ],
     "prompt_number": 66
    },
    {
     "cell_type": "code",
     "collapsed": false,
     "input": [
      "y=a[newaxis,:]\n",
      "shape(y)"
     ],
     "language": "python",
     "metadata": {},
     "outputs": [
      {
       "metadata": {},
       "output_type": "pyout",
       "prompt_number": 67,
       "text": [
        "(1L, 3L)"
       ]
      }
     ],
     "prompt_number": 67
    },
    {
     "cell_type": "code",
     "collapsed": false,
     "input": [
      "y=a[:,newaxis]\n",
      "shape(y)"
     ],
     "language": "python",
     "metadata": {},
     "outputs": [
      {
       "metadata": {},
       "output_type": "pyout",
       "prompt_number": 69,
       "text": [
        "(3L, 1L)"
       ]
      }
     ],
     "prompt_number": 69
    },
    {
     "cell_type": "markdown",
     "metadata": {},
     "source": [
      "SQUEEZE"
     ]
    },
    {
     "cell_type": "code",
     "collapsed": false,
     "input": [
      "a=array([[1,2,3],[4,5,6]])\n",
      "a.shape"
     ],
     "language": "python",
     "metadata": {},
     "outputs": [
      {
       "metadata": {},
       "output_type": "pyout",
       "prompt_number": 72,
       "text": [
        "(2L, 3L)"
       ]
      }
     ],
     "prompt_number": 72
    },
    {
     "cell_type": "code",
     "collapsed": false,
     "input": [
      "#insert an \"extra\" dimension\n",
      "a.shape=(2,1,3)"
     ],
     "language": "python",
     "metadata": {},
     "outputs": [],
     "prompt_number": 73
    },
    {
     "cell_type": "code",
     "collapsed": false,
     "input": [
      "#squeeze removes any dimension with length==1\n",
      "a=a.squeeze()\n",
      "a.shape"
     ],
     "language": "python",
     "metadata": {},
     "outputs": [
      {
       "metadata": {},
       "output_type": "pyout",
       "prompt_number": 74,
       "text": [
        "(2L, 3L)"
       ]
      }
     ],
     "prompt_number": 74
    },
    {
     "cell_type": "markdown",
     "metadata": {},
     "source": [
      "TRANSPOSE"
     ]
    },
    {
     "cell_type": "code",
     "collapsed": false,
     "input": [
      "a=array([[0,1,2],[3,4,5]])"
     ],
     "language": "python",
     "metadata": {},
     "outputs": [],
     "prompt_number": 75
    },
    {
     "cell_type": "code",
     "collapsed": false,
     "input": [
      "#Transpose swaps the order of axes. For 2D swaps rows and columns\n",
      "#Does not do complex conjugation\n",
      "a.transpose()"
     ],
     "language": "python",
     "metadata": {},
     "outputs": [
      {
       "metadata": {},
       "output_type": "pyout",
       "prompt_number": 76,
       "text": [
        "array([[0, 3],\n",
        "       [1, 4],\n",
        "       [2, 5]])"
       ]
      }
     ],
     "prompt_number": 76
    },
    {
     "cell_type": "code",
     "collapsed": false,
     "input": [
      "#The T. attribute is equivalent\n",
      "a.T"
     ],
     "language": "python",
     "metadata": {},
     "outputs": [
      {
       "metadata": {},
       "output_type": "pyout",
       "prompt_number": 78,
       "text": [
        "array([[0, 3],\n",
        "       [1, 4],\n",
        "       [2, 5]])"
       ]
      }
     ],
     "prompt_number": 78
    },
    {
     "cell_type": "code",
     "collapsed": false,
     "input": [
      "#works for multidim arrays\n",
      "a=arange(60)\n",
      "a.shape=3,4,5"
     ],
     "language": "python",
     "metadata": {},
     "outputs": [],
     "prompt_number": 83
    },
    {
     "cell_type": "code",
     "collapsed": false,
     "input": [
      "b=a.T\n",
      "b.shape"
     ],
     "language": "python",
     "metadata": {},
     "outputs": [
      {
       "metadata": {},
       "output_type": "pyout",
       "prompt_number": 82,
       "text": [
        "(5L, 4L, 3L)"
       ]
      }
     ],
     "prompt_number": 82
    },
    {
     "cell_type": "code",
     "collapsed": false,
     "input": [
      "#Transpose returns views\n",
      "#Changes to b alter a\n",
      "a=array([[0,1,2],[3,4,5]])\n",
      "b=a.T\n",
      "b[0,1]=30\n",
      "a"
     ],
     "language": "python",
     "metadata": {},
     "outputs": [
      {
       "metadata": {},
       "output_type": "pyout",
       "prompt_number": 85,
       "text": [
        "array([[ 0,  1,  2],\n",
        "       [30,  4,  5]])"
       ]
      }
     ],
     "prompt_number": 85
    },
    {
     "cell_type": "markdown",
     "metadata": {},
     "source": [
      "CONCATENATE"
     ]
    },
    {
     "cell_type": "markdown",
     "metadata": {},
     "source": [
      "The input arrays (a0,...,aN) are concatenated along given axis. \n",
      "They must have the same shape along every axis except the one given"
     ]
    },
    {
     "cell_type": "code",
     "collapsed": false,
     "input": [
      "x=array([[0,1,2],[10,11,12]])\n",
      "y=array([[50,51,52],[60,61,62]])\n",
      "concatenate((x,y),1)"
     ],
     "language": "python",
     "metadata": {},
     "outputs": [
      {
       "metadata": {},
       "output_type": "pyout",
       "prompt_number": 87,
       "text": [
        "array([[ 0,  1,  2, 50, 51, 52],\n",
        "       [10, 11, 12, 60, 61, 62]])"
       ]
      }
     ],
     "prompt_number": 87
    },
    {
     "cell_type": "code",
     "collapsed": false,
     "input": [
      "#see also vstack(),hstack() and dstack()"
     ],
     "language": "python",
     "metadata": {},
     "outputs": []
    },
    {
     "cell_type": "markdown",
     "metadata": {},
     "source": [
      "Flattening Arrays"
     ]
    },
    {
     "cell_type": "markdown",
     "metadata": {},
     "source": [
      "a.flatten() converts a multi-dim array into a 1D array. \n",
      "The new array is a copy of the original data"
     ]
    },
    {
     "cell_type": "code",
     "collapsed": false,
     "input": [
      "a=array([[0,1],[2,3]])\n",
      "b=a.flatten()\n",
      "b\n",
      "#changing b does not change a "
     ],
     "language": "python",
     "metadata": {},
     "outputs": [
      {
       "metadata": {},
       "output_type": "pyout",
       "prompt_number": 89,
       "text": [
        "array([0, 1, 2, 3])"
       ]
      }
     ],
     "prompt_number": 89
    },
    {
     "cell_type": "markdown",
     "metadata": {},
     "source": [
      "a.flat"
     ]
    },
    {
     "cell_type": "markdown",
     "metadata": {},
     "source": [
      "a.flat is an attribute that returns an interator object that accesses the data in the multi-dim array data as a 1D array. It references the original memory"
     ]
    },
    {
     "cell_type": "code",
     "collapsed": false,
     "input": [
      "#flat is an iterator object \n",
      "#accesing/setting values in the original array as if it is 1D"
     ],
     "language": "python",
     "metadata": {},
     "outputs": [
      {
       "metadata": {},
       "output_type": "pyout",
       "prompt_number": 90,
       "text": [
        "<numpy.flatiter at 0x7a00a80>"
       ]
      }
     ],
     "prompt_number": 90
    },
    {
     "cell_type": "code",
     "collapsed": false,
     "input": [
      "b=a.flat\n",
      "b[0]=10\n",
      "a"
     ],
     "language": "python",
     "metadata": {},
     "outputs": [
      {
       "metadata": {},
       "output_type": "pyout",
       "prompt_number": 94,
       "text": [
        "array([[10,  1],\n",
        "       [ 2,  3]])"
       ]
      }
     ],
     "prompt_number": 94
    },
    {
     "cell_type": "code",
     "collapsed": false,
     "input": [
      "#slicing the iterator returns a new array\n",
      "a.flat[:]"
     ],
     "language": "python",
     "metadata": {},
     "outputs": [
      {
       "metadata": {},
       "output_type": "pyout",
       "prompt_number": 95,
       "text": [
        "array([10,  1,  2,  3])"
       ]
      }
     ],
     "prompt_number": 95
    },
    {
     "cell_type": "markdown",
     "metadata": {},
     "source": [
      "a.ravel()"
     ]
    },
    {
     "cell_type": "markdown",
     "metadata": {},
     "source": [
      "is the same as a.flatten() but returns a reference of the array if possible. Otherwise the array copies the data"
     ]
    },
    {
     "cell_type": "code",
     "collapsed": false,
     "input": [
      "aa=a.transpose()\n",
      "b=aa.ravel()"
     ],
     "language": "python",
     "metadata": {},
     "outputs": [],
     "prompt_number": 98
    },
    {
     "cell_type": "heading",
     "level": 3,
     "metadata": {},
     "source": [
      "Ensuring array shape"
     ]
    },
    {
     "cell_type": "markdown",
     "metadata": {},
     "source": [
      "atleast_xd"
     ]
    },
    {
     "cell_type": "code",
     "collapsed": false,
     "input": [
      "a=1   #integer\n",
      "atleast_1d(a)   #we get 1d array"
     ],
     "language": "python",
     "metadata": {},
     "outputs": [
      {
       "metadata": {},
       "output_type": "pyout",
       "prompt_number": 99,
       "text": [
        "array([1])"
       ]
      }
     ],
     "prompt_number": 99
    },
    {
     "cell_type": "heading",
     "level": 3,
     "metadata": {},
     "source": [
      "Diagonals"
     ]
    },
    {
     "cell_type": "code",
     "collapsed": false,
     "input": [
      "a=array([[11,21,31],[12,22,32],[13,23,33]])"
     ],
     "language": "python",
     "metadata": {},
     "outputs": [],
     "prompt_number": 100
    },
    {
     "cell_type": "code",
     "collapsed": false,
     "input": [
      "#Extract the diagonal from an array\n",
      "a.diagonal()"
     ],
     "language": "python",
     "metadata": {},
     "outputs": [
      {
       "metadata": {},
       "output_type": "pyout",
       "prompt_number": 101,
       "text": [
        "array([11, 22, 33])"
       ]
      }
     ],
     "prompt_number": 101
    },
    {
     "cell_type": "code",
     "collapsed": false,
     "input": [
      "#Use offset to move off the main diagonal (can be negative)\n",
      "a.diagonal(offset=-1)"
     ],
     "language": "python",
     "metadata": {},
     "outputs": [
      {
       "metadata": {},
       "output_type": "pyout",
       "prompt_number": 103,
       "text": [
        "array([12, 23])"
       ]
      }
     ],
     "prompt_number": 103
    },
    {
     "cell_type": "markdown",
     "metadata": {},
     "source": [
      "Diagonals with Indexing"
     ]
    },
    {
     "cell_type": "code",
     "collapsed": false,
     "input": [
      "i=[0,1,2]\n",
      "a[i,i]"
     ],
     "language": "python",
     "metadata": {},
     "outputs": [
      {
       "metadata": {},
       "output_type": "pyout",
       "prompt_number": 104,
       "text": [
        "array([11, 22, 33])"
       ]
      }
     ],
     "prompt_number": 104
    },
    {
     "cell_type": "code",
     "collapsed": false,
     "input": [
      "#Indexing can be used to set diagonal values\n",
      "a[i,i]=2\n",
      "a"
     ],
     "language": "python",
     "metadata": {},
     "outputs": [
      {
       "metadata": {},
       "output_type": "pyout",
       "prompt_number": 107,
       "text": [
        "array([[ 2, 21, 31],\n",
        "       [12,  2, 32],\n",
        "       [13, 23,  2]])"
       ]
      }
     ],
     "prompt_number": 107
    },
    {
     "cell_type": "code",
     "collapsed": false,
     "input": [
      "#upper diagonal\n",
      "i2=array([0,1])\n",
      "a[i2,i2+1]=1"
     ],
     "language": "python",
     "metadata": {},
     "outputs": [],
     "prompt_number": 109
    },
    {
     "cell_type": "markdown",
     "metadata": {},
     "source": [
      "Difference between MATLAB and Python:\n",
      "A vector in MATLAB is a 2 dimensional object"
     ]
    },
    {
     "cell_type": "heading",
     "level": 3,
     "metadata": {},
     "source": [
      "Writing/Reading data to/from a string buffer"
     ]
    },
    {
     "cell_type": "markdown",
     "metadata": {},
     "source": [
      "TOSTRING"
     ]
    },
    {
     "cell_type": "code",
     "collapsed": false,
     "input": [
      "a=array([[1,2],[3,4]],dtype=uint8)"
     ],
     "language": "python",
     "metadata": {},
     "outputs": [],
     "prompt_number": 110
    },
    {
     "cell_type": "code",
     "collapsed": false,
     "input": [
      "#Write only the data from memory buffer to a string\n",
      "s=a.tostring()\n",
      "s"
     ],
     "language": "python",
     "metadata": {},
     "outputs": [
      {
       "metadata": {},
       "output_type": "pyout",
       "prompt_number": 114,
       "text": [
        "'\\x01\\x02\\x03\\x04'"
       ]
      }
     ],
     "prompt_number": 114
    },
    {
     "cell_type": "code",
     "collapsed": false,
     "input": [
      "#Specifying Fortran order writes out the data in column major order\n",
      "a.tostring(order='F')"
     ],
     "language": "python",
     "metadata": {},
     "outputs": [
      {
       "metadata": {},
       "output_type": "pyout",
       "prompt_number": 112,
       "text": [
        "'\\x01\\x03\\x02\\x04'"
       ]
      }
     ],
     "prompt_number": 112
    },
    {
     "cell_type": "code",
     "collapsed": false,
     "input": [
      "a=fromstring(s,dtype=uint8)\n",
      "a   #result is 1D"
     ],
     "language": "python",
     "metadata": {},
     "outputs": [
      {
       "metadata": {},
       "output_type": "pyout",
       "prompt_number": 116,
       "text": [
        "array([1, 2, 3, 4], dtype=uint8)"
       ]
      }
     ],
     "prompt_number": 116
    },
    {
     "cell_type": "code",
     "collapsed": false,
     "input": [
      "a.shape=2,2\n",
      "a"
     ],
     "language": "python",
     "metadata": {},
     "outputs": [
      {
       "metadata": {},
       "output_type": "pyout",
       "prompt_number": 121,
       "text": [
        "array([[1, 2],\n",
        "       [3, 4]], dtype=uint8)"
       ]
      }
     ],
     "prompt_number": 121
    },
    {
     "cell_type": "markdown",
     "metadata": {},
     "source": [
      "loadtxt, genfromtxt, savetxt are better to read and write from text arrays"
     ]
    },
    {
     "cell_type": "markdown",
     "metadata": {},
     "source": [
      "For saving data to binary files, use save,savez, and load. These functions preserve shape, dtype, and endianness information with the data"
     ]
    },
    {
     "cell_type": "heading",
     "level": 3,
     "metadata": {},
     "source": [
      "Array Creation "
     ]
    },
    {
     "cell_type": "markdown",
     "metadata": {},
     "source": [
      "ARANGE\n",
      "creates an array"
     ]
    },
    {
     "cell_type": "code",
     "collapsed": false,
     "input": [
      "arange(0,2*pi,pi/4)"
     ],
     "language": "python",
     "metadata": {},
     "outputs": [
      {
       "metadata": {},
       "output_type": "pyout",
       "prompt_number": 123,
       "text": [
        "array([ 0.        ,  0.78539816,  1.57079633,  2.35619449,  3.14159265,\n",
        "        3.92699082,  4.71238898,  5.49778714])"
       ]
      }
     ],
     "prompt_number": 123
    },
    {
     "cell_type": "code",
     "collapsed": false,
     "input": [
      "#be careful - last value\n",
      "arange(1.5,2.1,0.3)"
     ],
     "language": "python",
     "metadata": {},
     "outputs": [
      {
       "metadata": {},
       "output_type": "pyout",
       "prompt_number": 126,
       "text": [
        "array([ 1.5,  1.8,  2.1])"
       ]
      }
     ],
     "prompt_number": 126
    },
    {
     "cell_type": "markdown",
     "metadata": {},
     "source": [
      "LINSPACE"
     ]
    },
    {
     "cell_type": "code",
     "collapsed": false,
     "input": [
      "#including start and stop values\n",
      "linspace(0,1,5)"
     ],
     "language": "python",
     "metadata": {},
     "outputs": [
      {
       "metadata": {},
       "output_type": "pyout",
       "prompt_number": 127,
       "text": [
        "array([ 0.  ,  0.25,  0.5 ,  0.75,  1.  ])"
       ]
      }
     ],
     "prompt_number": 127
    },
    {
     "cell_type": "markdown",
     "metadata": {},
     "source": [
      "LOGSPACE"
     ]
    },
    {
     "cell_type": "code",
     "collapsed": false,
     "input": [
      "#generates n evenly spaced elements on a log scale\n",
      "logspace(0,1,5)"
     ],
     "language": "python",
     "metadata": {},
     "outputs": [
      {
       "metadata": {},
       "output_type": "pyout",
       "prompt_number": 130,
       "text": [
        "array([  1.        ,   1.77827941,   3.16227766,   5.62341325,  10.        ])"
       ]
      }
     ],
     "prompt_number": 130
    },
    {
     "cell_type": "heading",
     "level": 3,
     "metadata": {},
     "source": [
      "Creating grids of numbers"
     ]
    },
    {
     "cell_type": "markdown",
     "metadata": {},
     "source": [
      "meshgrid"
     ]
    },
    {
     "cell_type": "code",
     "collapsed": false,
     "input": [
      "x_ticks=linspace(-1,1,5)\n",
      "y_ticks=linspace(-1,1,5)\n",
      "x,y=meshgrid(x_ticks,y_ticks,sparse=True)\n",
      "#indexing='ij' \n",
      "#difference between indexing in meshgrid and in an array"
     ],
     "language": "python",
     "metadata": {},
     "outputs": [],
     "prompt_number": 132
    },
    {
     "cell_type": "heading",
     "level": 3,
     "metadata": {},
     "source": [
      "ogrid and mgrid"
     ]
    },
    {
     "cell_type": "code",
     "collapsed": false,
     "input": [
      "x,y=ogrid[-1:1:.5,-1:1:.5]   #last value!\n",
      "x,y"
     ],
     "language": "python",
     "metadata": {},
     "outputs": [
      {
       "metadata": {},
       "output_type": "pyout",
       "prompt_number": 134,
       "text": [
        "(array([[-1. ],\n",
        "        [-0.5],\n",
        "        [ 0. ],\n",
        "        [ 0.5]]), array([[-1. , -0.5,  0. ,  0.5]]))"
       ]
      }
     ],
     "prompt_number": 134
    },
    {
     "cell_type": "code",
     "collapsed": false,
     "input": [
      "#Same as calling meshgrid with indexing='ij' and sparse=True"
     ],
     "language": "python",
     "metadata": {},
     "outputs": [],
     "prompt_number": 135
    },
    {
     "cell_type": "code",
     "collapsed": false,
     "input": [
      "x,y=ogrid[-1:1:5j,-1:1:5j]\n",
      "x,y"
     ],
     "language": "python",
     "metadata": {},
     "outputs": [
      {
       "metadata": {},
       "output_type": "pyout",
       "prompt_number": 137,
       "text": [
        "(array([[-1. ],\n",
        "        [-0.5],\n",
        "        [ 0. ],\n",
        "        [ 0.5],\n",
        "        [ 1. ]]), array([[-1. , -0.5,  0. ,  0.5,  1. ]]))"
       ]
      }
     ],
     "prompt_number": 137
    },
    {
     "cell_type": "markdown",
     "metadata": {},
     "source": [
      "mgrid"
     ]
    },
    {
     "cell_type": "code",
     "collapsed": false,
     "input": [
      "#generates a full 2D array - is dense\n",
      "x,y=mgrid[-1:1:5j,-1:1:5j]\n",
      "x,y"
     ],
     "language": "python",
     "metadata": {},
     "outputs": [
      {
       "metadata": {},
       "output_type": "pyout",
       "prompt_number": 138,
       "text": [
        "(array([[-1. , -1. , -1. , -1. , -1. ],\n",
        "        [-0.5, -0.5, -0.5, -0.5, -0.5],\n",
        "        [ 0. ,  0. ,  0. ,  0. ,  0. ],\n",
        "        [ 0.5,  0.5,  0.5,  0.5,  0.5],\n",
        "        [ 1. ,  1. ,  1. ,  1. ,  1. ]]),\n",
        " array([[-1. , -0.5,  0. ,  0.5,  1. ],\n",
        "        [-1. , -0.5,  0. ,  0.5,  1. ],\n",
        "        [-1. , -0.5,  0. ,  0.5,  1. ],\n",
        "        [-1. , -0.5,  0. ,  0.5,  1. ],\n",
        "        [-1. , -0.5,  0. ,  0.5,  1. ]]))"
       ]
      }
     ],
     "prompt_number": 138
    },
    {
     "cell_type": "markdown",
     "metadata": {},
     "source": [
      "Row shortcut"
     ]
    },
    {
     "cell_type": "code",
     "collapsed": false,
     "input": [
      "# r_ and c_ are tools for creating row and column arrays\n",
      "r_[0:1:.25]"
     ],
     "language": "python",
     "metadata": {},
     "outputs": [
      {
       "metadata": {},
       "output_type": "pyout",
       "prompt_number": 139,
       "text": [
        "array([ 0.  ,  0.25,  0.5 ,  0.75])"
       ]
      }
     ],
     "prompt_number": 139
    },
    {
     "cell_type": "code",
     "collapsed": false,
     "input": [
      "#used like linspace - complex stride value\n",
      "r_[0:1:5j]"
     ],
     "language": "python",
     "metadata": {},
     "outputs": [
      {
       "metadata": {},
       "output_type": "pyout",
       "prompt_number": 140,
       "text": [
        "array([ 0.  ,  0.25,  0.5 ,  0.75,  1.  ])"
       ]
      }
     ],
     "prompt_number": 140
    },
    {
     "cell_type": "code",
     "collapsed": false,
     "input": [
      "#concatenate elements\n",
      "r_[(1,2,3),0,0,(4,5)]"
     ],
     "language": "python",
     "metadata": {},
     "outputs": [
      {
       "metadata": {},
       "output_type": "pyout",
       "prompt_number": 141,
       "text": [
        "array([1, 2, 3, 0, 0, 4, 5])"
       ]
      }
     ],
     "prompt_number": 141
    },
    {
     "cell_type": "heading",
     "level": 4,
     "metadata": {},
     "source": [
      "ONES, ZEROS"
     ]
    },
    {
     "cell_type": "code",
     "collapsed": false,
     "input": [
      "ones((2,3),dtype=float32)"
     ],
     "language": "python",
     "metadata": {},
     "outputs": [
      {
       "metadata": {},
       "output_type": "pyout",
       "prompt_number": 142,
       "text": [
        "array([[ 1.,  1.,  1.],\n",
        "       [ 1.,  1.,  1.]], dtype=float32)"
       ]
      }
     ],
     "prompt_number": 142
    },
    {
     "cell_type": "code",
     "collapsed": false,
     "input": [
      "zeros(3)"
     ],
     "language": "python",
     "metadata": {},
     "outputs": [
      {
       "metadata": {},
       "output_type": "pyout",
       "prompt_number": 143,
       "text": [
        "array([ 0.,  0.,  0.])"
       ]
      }
     ],
     "prompt_number": 143
    },
    {
     "cell_type": "code",
     "collapsed": false,
     "input": [
      "ones((2,3))*5"
     ],
     "language": "python",
     "metadata": {},
     "outputs": [
      {
       "metadata": {},
       "output_type": "pyout",
       "prompt_number": 144,
       "text": [
        "array([[ 5.,  5.,  5.],\n",
        "       [ 5.,  5.,  5.]])"
       ]
      }
     ],
     "prompt_number": 144
    },
    {
     "cell_type": "markdown",
     "metadata": {},
     "source": [
      "EMPTY and FILL"
     ]
    },
    {
     "cell_type": "code",
     "collapsed": false,
     "input": [
      "a=empty(2) #this does not have to fill array with zeros in memory"
     ],
     "language": "python",
     "metadata": {},
     "outputs": [],
     "prompt_number": 145
    },
    {
     "cell_type": "code",
     "collapsed": false,
     "input": [
      "a.fill(5.0)\n",
      "a"
     ],
     "language": "python",
     "metadata": {},
     "outputs": [
      {
       "metadata": {},
       "output_type": "pyout",
       "prompt_number": 148,
       "text": [
        "array([ 5.,  5.])"
       ]
      }
     ],
     "prompt_number": 148
    },
    {
     "cell_type": "code",
     "collapsed": false,
     "input": [],
     "language": "python",
     "metadata": {},
     "outputs": []
    }
   ],
   "metadata": {}
  }
 ]
}