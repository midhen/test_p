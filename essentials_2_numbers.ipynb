{
 "metadata": {
  "name": "",
  "signature": "sha256:c1af98583e9db433b251e37db64165b0f72f576175dd7001bd5a9cff8a34486c"
 },
 "nbformat": 3,
 "nbformat_minor": 0,
 "worksheets": [
  {
   "cells": [
    {
     "cell_type": "markdown",
     "metadata": {},
     "source": [
      "Numbers\n",
      "=======\n",
      "\n",
      "Let's take a look at the common numerical data types within Python.\n",
      "\n",
      "Integers\n",
      "--------\n",
      "\n",
      "The first of these is the integer type.  We can add integers, getting another integer as the result:"
     ]
    },
    {
     "cell_type": "code",
     "collapsed": false,
     "input": [
      "a = 1"
     ],
     "language": "python",
     "metadata": {},
     "outputs": [],
     "prompt_number": 2
    },
    {
     "cell_type": "markdown",
     "metadata": {},
     "source": [
      "We can ask the variable for its type, and see that it is `int`:"
     ]
    },
    {
     "cell_type": "code",
     "collapsed": false,
     "input": [
      "type(a)"
     ],
     "language": "python",
     "metadata": {},
     "outputs": [
      {
       "metadata": {},
       "output_type": "pyout",
       "prompt_number": 4,
       "text": [
        "int"
       ]
      }
     ],
     "prompt_number": 4
    },
    {
     "cell_type": "markdown",
     "metadata": {},
     "source": [
      "To see what the largest integer is on your system, the `sys` module provides standard constants for your system, and in particular `sys.maxint` holds the largest integer value:"
     ]
    },
    {
     "cell_type": "code",
     "collapsed": false,
     "input": [
      "import sys\n",
      "sys.maxint"
     ],
     "language": "python",
     "metadata": {},
     "outputs": [
      {
       "metadata": {},
       "output_type": "pyout",
       "prompt_number": 5,
       "text": [
        "9223372036854775807"
       ]
      }
     ],
     "prompt_number": 5
    },
    {
     "cell_type": "markdown",
     "metadata": {},
     "source": [
      "Long Integers\n",
      "-------------\n",
      "\n",
      "An obvious question (particularly to the troublemakers in the audience) is what happens if you add 1 to the maximum integer?"
     ]
    },
    {
     "cell_type": "code",
     "collapsed": false,
     "input": [
      "a = sys.maxint + 1"
     ],
     "language": "python",
     "metadata": {},
     "outputs": [],
     "prompt_number": 6
    },
    {
     "cell_type": "code",
     "collapsed": false,
     "input": [
      "a"
     ],
     "language": "python",
     "metadata": {},
     "outputs": [
      {
       "metadata": {},
       "output_type": "pyout",
       "prompt_number": 7,
       "text": [
        "9223372036854775808L"
       ]
      }
     ],
     "prompt_number": 7
    },
    {
     "cell_type": "markdown",
     "metadata": {},
     "source": [
      "As you can see, it worked, but the result has an `L` at the end, which means that this is a \"long integer\" or `long`.\n",
      "\n",
      "Python's long integer data type can support arbitrarily large positive or negative integer values, but mathematical operations with them will not be as speedy as with standard integers.  However the fact that Python automatically rolls over the values for you is nice.\n",
      "\n",
      "If you check, you can see that the type of `a` is `long`:"
     ]
    },
    {
     "cell_type": "code",
     "collapsed": false,
     "input": [
      "type(a)"
     ],
     "language": "python",
     "metadata": {},
     "outputs": [
      {
       "metadata": {},
       "output_type": "pyout",
       "prompt_number": 8,
       "text": [
        "long"
       ]
      }
     ],
     "prompt_number": 8
    },
    {
     "cell_type": "markdown",
     "metadata": {},
     "source": [
      "To create a long integer, you can simply type a number greater than your system's maximum integer (or less than the minimum) and Python gives you a long integer back:"
     ]
    },
    {
     "cell_type": "code",
     "collapsed": false,
     "input": [
      "a = 12345678901234567890"
     ],
     "language": "python",
     "metadata": {},
     "outputs": [],
     "prompt_number": 9
    },
    {
     "cell_type": "code",
     "collapsed": false,
     "input": [
      "a"
     ],
     "language": "python",
     "metadata": {},
     "outputs": [
      {
       "metadata": {},
       "output_type": "pyout",
       "prompt_number": 10,
       "text": [
        "12345678901234567890L"
       ]
      }
     ],
     "prompt_number": 10
    },
    {
     "cell_type": "markdown",
     "metadata": {},
     "source": [
      "Floating Point Numbers\n",
      "----------------------\n",
      "\n",
      "You can represent real numbers in Python as easily as integers.  For example, we could assign 1.4 to the variable `a`:"
     ]
    },
    {
     "cell_type": "code",
     "collapsed": false,
     "input": [
      "a = 1.4"
     ],
     "language": "python",
     "metadata": {},
     "outputs": [],
     "prompt_number": 11
    },
    {
     "cell_type": "markdown",
     "metadata": {},
     "source": [
      "Notice that the type of `a` is now `float`:"
     ]
    },
    {
     "cell_type": "code",
     "collapsed": false,
     "input": [
      "type(a)"
     ],
     "language": "python",
     "metadata": {},
     "outputs": [
      {
       "metadata": {},
       "output_type": "pyout",
       "prompt_number": 12,
       "text": [
        "float"
       ]
      }
     ],
     "prompt_number": 12
    },
    {
     "cell_type": "markdown",
     "metadata": {},
     "source": [
      "Python's `float` data type follows the [IEEE 754 floating point standard](http://en.wikipedia.org/wiki/IEEE_floating_point), the same as C, Fortran, C# and just about every other programming language because that's what modern processors use to do math quickly."
     ]
    },
    {
     "cell_type": "markdown",
     "metadata": {},
     "source": [
      "Much like `sys.maxint` for integers, there's also `sys.float_info`:"
     ]
    },
    {
     "cell_type": "code",
     "collapsed": false,
     "input": [
      "sys.float_info"
     ],
     "language": "python",
     "metadata": {},
     "outputs": [
      {
       "metadata": {},
       "output_type": "pyout",
       "prompt_number": 17,
       "text": [
        "sys.float_info(max=1.7976931348623157e+308, max_exp=1024, max_10_exp=308, min=2.2250738585072014e-308, min_exp=-1021, min_10_exp=-307, dig=15, mant_dig=53, epsilon=2.220446049250313e-16, radix=2, rounds=1)"
       ]
      }
     ],
     "prompt_number": 17
    },
    {
     "cell_type": "markdown",
     "metadata": {},
     "source": [
      "You'll notice that it has a lot more information in it than just a single value.\n",
      "\n",
      "There's `max`, which tells you the maximum and minimum values representable by a floating point number:"
     ]
    },
    {
     "cell_type": "code",
     "collapsed": false,
     "input": [
      "sys.float_info.max"
     ],
     "language": "python",
     "metadata": {},
     "outputs": [
      {
       "metadata": {},
       "output_type": "pyout",
       "prompt_number": 18,
       "text": [
        "1.7976931348623157e+308"
       ]
      }
     ],
     "prompt_number": 18
    },
    {
     "cell_type": "markdown",
     "metadata": {},
     "source": [
      "There's also `min` which gives the closest value to 0 that can be represented:"
     ]
    },
    {
     "cell_type": "code",
     "collapsed": false,
     "input": [
      "sys.float_info.min"
     ],
     "language": "python",
     "metadata": {},
     "outputs": [
      {
       "metadata": {},
       "output_type": "pyout",
       "prompt_number": 19,
       "text": [
        "2.2250738585072014e-308"
       ]
      }
     ],
     "prompt_number": 19
    },
    {
     "cell_type": "markdown",
     "metadata": {},
     "source": [
      "The value `epsilon` gives an upper bound on the rounding error when doing mathematical computations:"
     ]
    },
    {
     "cell_type": "code",
     "collapsed": false,
     "input": [
      "sys.float_info.epsilon"
     ],
     "language": "python",
     "metadata": {},
     "outputs": [
      {
       "metadata": {},
       "output_type": "pyout",
       "prompt_number": 20,
       "text": [
        "2.220446049250313e-16"
       ]
      }
     ],
     "prompt_number": 20
    },
    {
     "cell_type": "markdown",
     "metadata": {},
     "source": [
      "These values are the same as double precision floating point numbers in C, which use 8 bytes, and the values are usually the same on 32 and 64 bit systems.\n",
      "\n",
      "There's no way to specify that you want to use a different level of precision with your floating point arithmetic in standard Python, but if you use NumPy you can specify that you want to use single precision floating point numbers if you want to save memory or don't have high precision values."
     ]
    },
    {
     "cell_type": "markdown",
     "metadata": {},
     "source": [
      "Complex Numbers\n",
      "---------------\n",
      "\n",
      "One of the cool things about Python is that it natively support s complex numbers.  \n",
      "Python follows the convention used in Electrical Engineering and some parts of Physics, rather than that of Mathematics, and represents the imaginary unit with $j$ rather than $i$.\n",
      "\n",
      "So for example:"
     ]
    },
    {
     "cell_type": "code",
     "collapsed": false,
     "input": [
      "a = 1 + 2j\n",
      "a"
     ],
     "language": "python",
     "metadata": {},
     "outputs": [
      {
       "metadata": {},
       "output_type": "pyout",
       "prompt_number": 21,
       "text": [
        "(1+2j)"
       ]
      }
     ],
     "prompt_number": 21
    },
    {
     "cell_type": "code",
     "collapsed": false,
     "input": [
      "type(a)"
     ],
     "language": "python",
     "metadata": {},
     "outputs": [
      {
       "metadata": {},
       "output_type": "pyout",
       "prompt_number": 22,
       "text": [
        "complex"
       ]
      }
     ],
     "prompt_number": 22
    },
    {
     "cell_type": "markdown",
     "metadata": {},
     "source": [
      "Python stores the complex number as a pair of floating point values for the real and imaginary parts, and you can access those values using the `real` and `imag` attributes:"
     ]
    },
    {
     "cell_type": "code",
     "collapsed": false,
     "input": [
      "a.real"
     ],
     "language": "python",
     "metadata": {},
     "outputs": [
      {
       "metadata": {},
       "output_type": "pyout",
       "prompt_number": 23,
       "text": [
        "1.0"
       ]
      }
     ],
     "prompt_number": 23
    },
    {
     "cell_type": "code",
     "collapsed": false,
     "input": [
      "a.imag"
     ],
     "language": "python",
     "metadata": {},
     "outputs": [
      {
       "metadata": {},
       "output_type": "pyout",
       "prompt_number": 24,
       "text": [
        "2.0"
       ]
      }
     ],
     "prompt_number": 24
    },
    {
     "cell_type": "markdown",
     "metadata": {},
     "source": [
      "You can compute the complex conjugate by calling the `conjugate()` method of the complex number:"
     ]
    },
    {
     "cell_type": "code",
     "collapsed": false,
     "input": [
      "a.conjugate()"
     ],
     "language": "python",
     "metadata": {},
     "outputs": [
      {
       "metadata": {},
       "output_type": "pyout",
       "prompt_number": 27,
       "text": [
        "(1-2j)"
       ]
      }
     ],
     "prompt_number": 27
    },
    {
     "cell_type": "markdown",
     "metadata": {},
     "source": [
      "More Interactive Calculation\n",
      "----------------------------\n",
      "\n",
      "<h3>Arithmetic Operations</h3>\n",
      "\n",
      "Let's use an example of a more involved numerical expression to get some familiarity with Python's operation syntax and order of operations."
     ]
    },
    {
     "cell_type": "code",
     "collapsed": false,
     "input": [
      "1 + 2 - (3*4/6)**5 + 7%5"
     ],
     "language": "python",
     "metadata": {},
     "outputs": [
      {
       "metadata": {},
       "output_type": "pyout",
       "prompt_number": 28,
       "text": [
        "-27"
       ]
      }
     ],
     "prompt_number": 28
    },
    {
     "cell_type": "markdown",
     "metadata": {},
     "source": [
      "Looking at this, most of the operations should be straightforward, but `**` in Python indicates exponentiation, and `%` is the modulo (or remainder) operation.\n",
      "\n",
      "Python's precedence order for operations is fairly standard (from highest to lowest):\n",
      "\n",
      "* `( )` (parenthesis grouping)\n",
      "* `**` (exponentiation)\n",
      "* `*`, `/`, `//`, `%` (multiplication, division, integer division and modulo)\n",
      "* `+`, `-` (addition, subtraction)"
     ]
    },
    {
     "cell_type": "markdown",
     "metadata": {},
     "source": [
      "\n",
      "<h3>Overwriting Functions (!)</h3>\n",
      "\n",
      "One thing that may be surprising if you have worked with other languages is that these functions can be overridden.  The name `max`, for example, has nothing special about it---it's not a keyword---and the name can be bound to an integer or any other value:"
     ]
    },
    {
     "cell_type": "code",
     "collapsed": false,
     "input": [
      "# don't do this\n",
      "max = 100"
     ],
     "language": "python",
     "metadata": {},
     "outputs": [],
     "prompt_number": 38
    },
    {
     "cell_type": "markdown",
     "metadata": {},
     "source": [
      "So now we've done this `max` is an integer:"
     ]
    },
    {
     "cell_type": "code",
     "collapsed": false,
     "input": [
      "type(max)"
     ],
     "language": "python",
     "metadata": {},
     "outputs": [
      {
       "metadata": {},
       "output_type": "pyout",
       "prompt_number": 39,
       "text": [
        "int"
       ]
      }
     ],
     "prompt_number": 39
    },
    {
     "cell_type": "markdown",
     "metadata": {},
     "source": [
      "and if we try to call `max(4, 5)` we'll get a type error:"
     ]
    },
    {
     "cell_type": "code",
     "collapsed": false,
     "input": [
      "max(4, 5)"
     ],
     "language": "python",
     "metadata": {},
     "outputs": [
      {
       "ename": "TypeError",
       "evalue": "'int' object is not callable",
       "output_type": "pyerr",
       "traceback": [
        "\u001b[0;31m---------------------------------------------------------------------------\u001b[0m\n\u001b[0;31mTypeError\u001b[0m                                 Traceback (most recent call last)",
        "\u001b[0;32m<ipython-input-40-c60446be959c>\u001b[0m in \u001b[0;36m<module>\u001b[0;34m()\u001b[0m\n\u001b[0;32m----> 1\u001b[0;31m \u001b[0mmax\u001b[0m\u001b[0;34m(\u001b[0m\u001b[0;36m4\u001b[0m\u001b[0;34m,\u001b[0m \u001b[0;36m5\u001b[0m\u001b[0;34m)\u001b[0m\u001b[0;34m\u001b[0m\u001b[0m\n\u001b[0m",
        "\u001b[0;31mTypeError\u001b[0m: 'int' object is not callable"
       ]
      }
     ],
     "prompt_number": 40
    },
    {
     "cell_type": "markdown",
     "metadata": {},
     "source": [
      "because `max` is an integer now, not a function, and you can't call an integer.\n",
      "\n",
      "In this case we can remove the local definition of `max` that is masking the built-in function by using the `del` statement:"
     ]
    },
    {
     "cell_type": "code",
     "collapsed": false,
     "input": [
      "del max"
     ],
     "language": "python",
     "metadata": {},
     "outputs": [],
     "prompt_number": 41
    },
    {
     "cell_type": "markdown",
     "metadata": {},
     "source": [
      "If we check now, we'll see that `max` is back to being a function:"
     ]
    },
    {
     "cell_type": "code",
     "collapsed": false,
     "input": [
      "max(4, 5)"
     ],
     "language": "python",
     "metadata": {},
     "outputs": [
      {
       "metadata": {},
       "output_type": "pyout",
       "prompt_number": 42,
       "text": [
        "5"
       ]
      }
     ],
     "prompt_number": 42
    },
    {
     "cell_type": "markdown",
     "metadata": {},
     "source": [
      "<h3>Type Conversion</h3>\n",
      "\n",
      "Python provides some functions for converting between types.\n",
      "\n",
      "If you have a floating point number and want to cast it to an integer, use the `int()` function:"
     ]
    },
    {
     "cell_type": "code",
     "collapsed": false,
     "input": [
      "int(2.718281828)"
     ],
     "language": "python",
     "metadata": {},
     "outputs": [
      {
       "metadata": {},
       "output_type": "pyout",
       "prompt_number": 43,
       "text": [
        "2"
       ]
      }
     ],
     "prompt_number": 43
    },
    {
     "cell_type": "markdown",
     "metadata": {},
     "source": [
      "which always rounds towards 0.\n",
      "\n",
      "If you have an integer and you want to create a float, you can cast it up using the `float()` function:"
     ]
    },
    {
     "cell_type": "code",
     "collapsed": false,
     "input": [
      "float(2)"
     ],
     "language": "python",
     "metadata": {},
     "outputs": [
      {
       "metadata": {},
       "output_type": "pyout",
       "prompt_number": 44,
       "text": [
        "2.0"
       ]
      }
     ],
     "prompt_number": 44
    },
    {
     "cell_type": "markdown",
     "metadata": {},
     "source": [
      "<h3>Alternative Notations</h3>\n",
      "\n",
      "There are some other ways of specifying numbers, and we'll show a few of the major ones here.\n",
      "\n",
      "This is the floating point way of writing scientific notation:"
     ]
    },
    {
     "cell_type": "code",
     "collapsed": false,
     "input": [
      "6e3"
     ],
     "language": "python",
     "metadata": {},
     "outputs": [
      {
       "metadata": {},
       "output_type": "pyout",
       "prompt_number": 46,
       "text": [
        "6000.0"
       ]
      }
     ],
     "prompt_number": 46
    },
    {
     "cell_type": "markdown",
     "metadata": {},
     "source": [
      "The others are less used, but convenient when you need them.  For integers, if you define a number with `0x` at the front, the value is treated as hexadecimal:"
     ]
    },
    {
     "cell_type": "code",
     "collapsed": false,
     "input": [
      "0xFF"
     ],
     "language": "python",
     "metadata": {},
     "outputs": [
      {
       "metadata": {},
       "output_type": "pyout",
       "prompt_number": 47,
       "text": [
        "255"
       ]
      }
     ],
     "prompt_number": 47
    },
    {
     "cell_type": "markdown",
     "metadata": {},
     "source": [
      "You can also use `0o` at the front to indicate octal (ie. base 8):"
     ]
    },
    {
     "cell_type": "code",
     "collapsed": false,
     "input": [
      "0o23"
     ],
     "language": "python",
     "metadata": {},
     "outputs": [
      {
       "metadata": {},
       "output_type": "pyout",
       "prompt_number": 48,
       "text": [
        "19"
       ]
      }
     ],
     "prompt_number": 48
    },
    {
     "cell_type": "markdown",
     "metadata": {},
     "source": [
      "You can instead just have a leading `0` and it will do the same thing, but this is not recommended because the meaning is very unclear and this behaviour can cause confusion for people who are new to Python:"
     ]
    },
    {
     "cell_type": "code",
     "collapsed": false,
     "input": [
      "023"
     ],
     "language": "python",
     "metadata": {},
     "outputs": [
      {
       "metadata": {},
       "output_type": "pyout",
       "prompt_number": 49,
       "text": [
        "19"
       ]
      }
     ],
     "prompt_number": 49
    },
    {
     "cell_type": "markdown",
     "metadata": {},
     "source": [
      "Finally `0b` at the front indicates a binary value:"
     ]
    },
    {
     "cell_type": "code",
     "collapsed": false,
     "input": [
      "0b1111"
     ],
     "language": "python",
     "metadata": {},
     "outputs": [
      {
       "metadata": {},
       "output_type": "pyout",
       "prompt_number": 50,
       "text": [
        "15"
       ]
      }
     ],
     "prompt_number": 50
    },
    {
     "cell_type": "markdown",
     "metadata": {},
     "source": [
      "<h3>In-Place Operations</h3>\n",
      "\n",
      "In place versions of the standard arithmetic operations are possible using `+=`, `-=`, and so forth.  So for example:"
     ]
    },
    {
     "cell_type": "code",
     "collapsed": false,
     "input": [
      "b = 2.5\n",
      "b += 0.5   # b = b + 0.5\n",
      "b"
     ],
     "language": "python",
     "metadata": {},
     "outputs": [
      {
       "metadata": {},
       "output_type": "pyout",
       "prompt_number": 51,
       "text": [
        "3.0"
       ]
      }
     ],
     "prompt_number": 51
    },
    {
     "cell_type": "markdown",
     "metadata": {},
     "source": [
      "Boolean Data Type\n",
      "-----------------\n",
      "\n",
      "Python has a boolean data type, which has two values, `True` and `False`.  So we could set:"
     ]
    },
    {
     "cell_type": "code",
     "collapsed": false,
     "input": [
      "q = True"
     ],
     "language": "python",
     "metadata": {},
     "outputs": [],
     "prompt_number": 52
    },
    {
     "cell_type": "markdown",
     "metadata": {},
     "source": [
      "and see that the type of `q` is now `bool`:"
     ]
    },
    {
     "cell_type": "code",
     "collapsed": false,
     "input": [
      "type(q)"
     ],
     "language": "python",
     "metadata": {},
     "outputs": [
      {
       "metadata": {},
       "output_type": "pyout",
       "prompt_number": 53,
       "text": [
        "bool"
       ]
      }
     ],
     "prompt_number": 53
    },
    {
     "cell_type": "markdown",
     "metadata": {},
     "source": [
      "Boolean values are most often created using expressions.  For example `1 < 0` is false, so if we do:"
     ]
    },
    {
     "cell_type": "code",
     "collapsed": false,
     "input": [
      "q = 1 < 0\n",
      "q"
     ],
     "language": "python",
     "metadata": {},
     "outputs": [
      {
       "metadata": {},
       "output_type": "pyout",
       "prompt_number": 54,
       "text": [
        "False"
       ]
      }
     ],
     "prompt_number": 54
    },
    {
     "cell_type": "markdown",
     "metadata": {},
     "source": [
      "we see that `q` gets the value `False` as you might hope.\n",
      "\n",
      "<h3>Comparison Operators</h3>\n",
      "Python's comparison operators are quite standard: `<`, `>`, `<=`, `>=`, `==` and `!=`.  So for example:"
     ]
    },
    {
     "cell_type": "code",
     "collapsed": false,
     "input": [
      "1 >= 2"
     ],
     "language": "python",
     "metadata": {},
     "outputs": [
      {
       "metadata": {},
       "output_type": "pyout",
       "prompt_number": 55,
       "text": [
        "False"
       ]
      }
     ],
     "prompt_number": 55
    },
    {
     "cell_type": "code",
     "collapsed": false,
     "input": [
      "1 + 1 == 2"
     ],
     "language": "python",
     "metadata": {},
     "outputs": [
      {
       "metadata": {},
       "output_type": "pyout",
       "prompt_number": 56,
       "text": [
        "True"
       ]
      }
     ],
     "prompt_number": 56
    },
    {
     "cell_type": "code",
     "collapsed": false,
     "input": [
      "2**3 != 3**2"
     ],
     "language": "python",
     "metadata": {},
     "outputs": [
      {
       "metadata": {},
       "output_type": "pyout",
       "prompt_number": 57,
       "text": [
        "True"
       ]
      }
     ],
     "prompt_number": 57
    },
    {
     "cell_type": "markdown",
     "metadata": {},
     "source": [
      "One really slick feature of Python's comparisons are chained comparisons:"
     ]
    },
    {
     "cell_type": "code",
     "collapsed": false,
     "input": [
      "1 < 10 < 100"
     ],
     "language": "python",
     "metadata": {},
     "outputs": [
      {
       "metadata": {},
       "output_type": "pyout",
       "prompt_number": 58,
       "text": [
        "True"
       ]
      }
     ],
     "prompt_number": 58
    },
    {
     "cell_type": "markdown",
     "metadata": {},
     "source": [
      "Effectively Python treats this expression as if it were:"
     ]
    },
    {
     "cell_type": "code",
     "collapsed": false,
     "input": [
      "1 < 10 and 10 < 100"
     ],
     "language": "python",
     "metadata": {},
     "outputs": [
      {
       "metadata": {},
       "output_type": "pyout",
       "prompt_number": 59,
       "text": [
        "True"
       ]
      }
     ],
     "prompt_number": 59
    },
    {
     "cell_type": "markdown",
     "metadata": {},
     "source": [
      "<h3>Logical Operations</h3>\n",
      "\n",
      "Comparisons can be combined using the logical operators `and`, `or` and `not`.  So for example:"
     ]
    },
    {
     "cell_type": "code",
     "collapsed": false,
     "input": [
      "1 > 0 and 5 == 5"
     ],
     "language": "python",
     "metadata": {},
     "outputs": [
      {
       "metadata": {},
       "output_type": "pyout",
       "prompt_number": 60,
       "text": [
        "True"
       ]
      }
     ],
     "prompt_number": 60
    },
    {
     "cell_type": "markdown",
     "metadata": {},
     "source": [
      "Python uses [\"short-circuit\" evaluation](http://en.wikipedia.org/wiki/Short-circuit_evaluation) of logical expressions if the value of subsequent terms can't affect the result.  So for example, in the expression:"
     ]
    },
    {
     "cell_type": "code",
     "collapsed": false,
     "input": [
      "1 < 0 and max(0, 1, 2) > 1"
     ],
     "language": "python",
     "metadata": {},
     "outputs": [
      {
       "metadata": {},
       "output_type": "pyout",
       "prompt_number": 61,
       "text": [
        "False"
       ]
      }
     ],
     "prompt_number": 61
    },
    {
     "cell_type": "markdown",
     "metadata": {},
     "source": [
      "since the first operand is `False`:"
     ]
    },
    {
     "cell_type": "code",
     "collapsed": false,
     "input": [
      "1 < 0"
     ],
     "language": "python",
     "metadata": {},
     "outputs": [
      {
       "metadata": {},
       "output_type": "pyout",
       "prompt_number": 62,
       "text": [
        "False"
       ]
      }
     ],
     "prompt_number": 62
    },
    {
     "cell_type": "markdown",
     "metadata": {},
     "source": [
      "there is no way that the full expression could ever evalute to `True` and so Python skips the evaluation of the second operand, and returns `False` straight away.\n",
      "\n",
      "Python's `or` operator works in a similar way:"
     ]
    },
    {
     "cell_type": "code",
     "collapsed": false,
     "input": [
      "a = 50\n",
      "a < 10 or a > 90"
     ],
     "language": "python",
     "metadata": {},
     "outputs": [
      {
       "metadata": {},
       "output_type": "pyout",
       "prompt_number": 63,
       "text": [
        "False"
       ]
      }
     ],
     "prompt_number": 63
    },
    {
     "cell_type": "markdown",
     "metadata": {},
     "source": [
      "and it will short-circuit evaluation if the first operand is `True`:"
     ]
    },
    {
     "cell_type": "code",
     "collapsed": false,
     "input": [
      "a = 0\n",
      "a < 10 or a > 90   # second term won't be evaluated"
     ],
     "language": "python",
     "metadata": {},
     "outputs": [
      {
       "metadata": {},
       "output_type": "pyout",
       "prompt_number": 64,
       "text": [
        "True"
       ]
      }
     ],
     "prompt_number": 64
    },
    {
     "cell_type": "markdown",
     "metadata": {},
     "source": [
      "And finally, the `not` operation inverts the value of the argument:"
     ]
    },
    {
     "cell_type": "code",
     "collapsed": false,
     "input": [
      "not 10 <= a <= 90"
     ],
     "language": "python",
     "metadata": {},
     "outputs": [
      {
       "metadata": {},
       "output_type": "pyout",
       "prompt_number": 65,
       "text": [
        "True"
       ]
      }
     ],
     "prompt_number": 65
    }
   ],
   "metadata": {}
  }
 ]
}