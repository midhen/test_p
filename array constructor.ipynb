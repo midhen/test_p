{
 "metadata": {
  "name": "",
  "signature": "sha256:8c72335a310846b1affc5b324b454c0f50a864ffb0695b1907fbf1bc5f24be40"
 },
 "nbformat": 3,
 "nbformat_minor": 0,
 "worksheets": [
  {
   "cells": [
    {
     "cell_type": "heading",
     "level": 3,
     "metadata": {},
     "source": [
      "Array Constructor Examples"
     ]
    },
    {
     "cell_type": "markdown",
     "metadata": {},
     "source": [
      "Reducing precision"
     ]
    },
    {
     "cell_type": "code",
     "collapsed": false,
     "input": [
      "a=array([0,1.0,2,3],dtype=float32)"
     ],
     "language": "python",
     "metadata": {},
     "outputs": [],
     "prompt_number": 1
    },
    {
     "cell_type": "markdown",
     "metadata": {},
     "source": [
      "Array from Binary Data"
     ]
    },
    {
     "cell_type": "code",
     "collapsed": false,
     "input": [
      "#frombuffer or fromfile to create an array from binary data\n",
      "a=frombuffer('foo',dtype=uint8)"
     ],
     "language": "python",
     "metadata": {},
     "outputs": [],
     "prompt_number": 3
    },
    {
     "cell_type": "markdown",
     "metadata": {},
     "source": [
      "NumPy dtypes"
     ]
    },
    {
     "cell_type": "code",
     "collapsed": false,
     "input": [
      "a=array([1,1.2,'hello',[10,20,30]],dtype=object)"
     ],
     "language": "python",
     "metadata": {},
     "outputs": [],
     "prompt_number": 5
    },
    {
     "cell_type": "code",
     "collapsed": false,
     "input": [
      "a*2"
     ],
     "language": "python",
     "metadata": {},
     "outputs": [
      {
       "metadata": {},
       "output_type": "pyout",
       "prompt_number": 6,
       "text": [
        "array([2, 2.4, 'hellohello', [10, 20, 30, 10, 20, 30]], dtype=object)"
       ]
      }
     ],
     "prompt_number": 6
    },
    {
     "cell_type": "code",
     "collapsed": false,
     "input": [],
     "language": "python",
     "metadata": {},
     "outputs": []
    }
   ],
   "metadata": {}
  }
 ]
}